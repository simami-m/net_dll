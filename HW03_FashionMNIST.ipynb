{
  "nbformat": 4,
  "nbformat_minor": 0,
  "metadata": {
    "colab": {
      "provenance": []
    },
    "kernelspec": {
      "name": "python3",
      "display_name": "Python 3"
    },
    "language_info": {
      "name": "python"
    }
  },
  "cells": [
    {
      "cell_type": "markdown",
      "source": [
        "**Задание**\n",
        "\n",
        "Постройте модель, используя архитектуру со свёрточными слоями, для классификации Fashion MNIST. Итоговое качество (accuracy) должно быть не ниже 89,5."
      ],
      "metadata": {
        "id": "0MhRXAPRaeKz"
      }
    },
    {
      "cell_type": "code",
      "execution_count": null,
      "metadata": {
        "id": "1t8Ma_Abbbgp"
      },
      "outputs": [],
      "source": [
        "import torchvision as tv\n",
        "import torch\n",
        "import time\n",
        "import matplotlib.pyplot as plt\n",
        "%matplotlib inline"
      ]
    },
    {
      "cell_type": "code",
      "source": [
        "f_mnist_train = tv.datasets.FashionMNIST('.', train=True, transform=tv.transforms.ToTensor(), download=True)\n",
        "f_mnist_test  = tv.datasets.FashionMNIST('.', train=False, transform=tv.transforms.ToTensor(), download=True)"
      ],
      "metadata": {
        "id": "NXzx3gGkbpjx"
      },
      "execution_count": null,
      "outputs": []
    },
    {
      "cell_type": "code",
      "source": [
        "BATCH_SIZE=256\n",
        "train, test = torch.utils.data.DataLoader(f_mnist_train, shuffle=True, batch_size=BATCH_SIZE), torch.utils.data.DataLoader(f_mnist_test, shuffle=True, batch_size=BATCH_SIZE)"
      ],
      "metadata": {
        "id": "CcTzaSvNb8l6"
      },
      "execution_count": null,
      "outputs": []
    },
    {
      "cell_type": "code",
      "source": [
        "plt.imshow(f_mnist_train[0][0].numpy().reshape(28,28), cmap='gray')"
      ],
      "metadata": {
        "colab": {
          "base_uri": "https://localhost:8080/",
          "height": 282
        },
        "id": "3CCAKoi8QghD",
        "outputId": "a6861c20-7b74-4261-9043-dd64f3cc317d"
      },
      "execution_count": null,
      "outputs": [
        {
          "output_type": "execute_result",
          "data": {
            "text/plain": [
              "<matplotlib.image.AxesImage at 0x7f7cf1a4ddc0>"
            ]
          },
          "metadata": {},
          "execution_count": 4
        },
        {
          "output_type": "display_data",
          "data": {
            "text/plain": [
              "<Figure size 432x288 with 1 Axes>"
            ],
            "image/png": "[encoded data removed]"
          },
          "metadata": {
            "needs_background": "light"
          }
        }
      ]
    },
    {
      "cell_type": "code",
      "source": [
        "for X, y in train:\n",
        "    print(X.shape, y.shape)\n",
        "    break\n",
        "\n",
        "for X, y in test:\n",
        "    print(X.shape, y.shape)\n",
        "    break"
      ],
      "metadata": {
        "colab": {
          "base_uri": "https://localhost:8080/"
        },
        "id": "nbkWTf8ucCqR",
        "outputId": "802a292f-ee08-40d1-9477-fc287256c819"
      },
      "execution_count": null,
      "outputs": [
        {
          "output_type": "stream",
          "name": "stdout",
          "text": [
            "torch.Size([256, 1, 28, 28]) torch.Size([256])\n",
            "torch.Size([256, 1, 28, 28]) torch.Size([256])\n"
          ]
        }
      ]
    },
    {
      "cell_type": "code",
      "source": [
        "LR = 0.01\n",
        "\n",
        "model = torch.nn.Sequential(\n",
        "    torch.nn.Conv2d(1, 12, kernel_size=4, padding=1),\n",
        "    torch.nn.BatchNorm2d(12),\n",
        "    torch.nn.ReLU(),\n",
        "    #torch.nn.MaxPool2d(2, stride=2),\n",
        "    torch.nn.Conv2d(12, 24, kernel_size=4),\n",
        "    torch.nn.BatchNorm2d(24),\n",
        "    torch.nn.ReLU(),\n",
        "    #torch.nn.MaxPool2d(2, stride=2),\n",
        "    #torch.nn.Dropout(0.25),\n",
        "    torch.nn.Conv2d(24, 6, kernel_size=2),\n",
        "    torch.nn.BatchNorm2d(6),\n",
        "    torch.nn.ReLU(),\n",
        "    torch.nn.MaxPool2d(2, stride=2),\n",
        "    torch.nn.Flatten(),\n",
        "    torch.nn.Linear(726, 300),\n",
        "    torch.nn.ReLU(),\n",
        "    torch.nn.Linear(300, 150),\n",
        "    torch.nn.ReLU(),\n",
        "    torch.nn.Linear(150, 50),\n",
        "    torch.nn.ReLU(),\n",
        "    torch.nn.Linear(50, 10)\n",
        ")\n",
        "\n",
        "\n",
        "loss = torch.nn.CrossEntropyLoss(reduction='sum')\n",
        "trainer = torch.optim.Adam(model.parameters(), LR)"
      ],
      "metadata": {
        "id": "ygcWbAaR4FPZ"
      },
      "execution_count": null,
      "outputs": []
    },
    {
      "cell_type": "code",
      "source": [
        "X = f_mnist_train[0][0]\n",
        "X = X.reshape(1, 1, 28, 28)\n",
        "print(X.shape)\n",
        "for l in model:\n",
        "    X = l(X)\n",
        "    print(\"Layer {}. X shape: {}\".format(l, X.shape))"
      ],
      "metadata": {
        "colab": {
          "base_uri": "https://localhost:8080/"
        },
        "id": "whDXhzd_OBwD",
        "outputId": "2a5d8e00-7249-4a35-9681-02a5bf70e568"
      },
      "execution_count": null,
      "outputs": [
        {
          "output_type": "stream",
          "name": "stdout",
          "text": [
            "torch.Size([1, 1, 28, 28])\n",
            "Layer Conv2d(1, 12, kernel_size=(4, 4), stride=(1, 1), padding=(1, 1)). X shape: torch.Size([1, 12, 27, 27])\n",
            "Layer BatchNorm2d(12, eps=1e-05, momentum=0.1, affine=True, track_running_stats=True). X shape: torch.Size([1, 12, 27, 27])\n",
            "Layer ReLU(). X shape: torch.Size([1, 12, 27, 27])\n",
            "Layer Conv2d(12, 24, kernel_size=(4, 4), stride=(1, 1)). X shape: torch.Size([1, 24, 24, 24])\n",
            "Layer BatchNorm2d(24, eps=1e-05, momentum=0.1, affine=True, track_running_stats=True). X shape: torch.Size([1, 24, 24, 24])\n",
            "Layer ReLU(). X shape: torch.Size([1, 24, 24, 24])\n",
            "Layer Conv2d(24, 6, kernel_size=(2, 2), stride=(1, 1)). X shape: torch.Size([1, 6, 23, 23])\n",
            "Layer BatchNorm2d(6, eps=1e-05, momentum=0.1, affine=True, track_running_stats=True). X shape: torch.Size([1, 6, 23, 23])\n",
            "Layer ReLU(). X shape: torch.Size([1, 6, 23, 23])\n",
            "Layer MaxPool2d(kernel_size=2, stride=2, padding=0, dilation=1, ceil_mode=False). X shape: torch.Size([1, 6, 11, 11])\n",
            "Layer Flatten(start_dim=1, end_dim=-1). X shape: torch.Size([1, 726])\n",
            "Layer Linear(in_features=726, out_features=300, bias=True). X shape: torch.Size([1, 300])\n",
            "Layer ReLU(). X shape: torch.Size([1, 300])\n",
            "Layer Linear(in_features=300, out_features=150, bias=True). X shape: torch.Size([1, 150])\n",
            "Layer ReLU(). X shape: torch.Size([1, 150])\n",
            "Layer Linear(in_features=150, out_features=50, bias=True). X shape: torch.Size([1, 50])\n",
            "Layer ReLU(). X shape: torch.Size([1, 50])\n",
            "Layer Linear(in_features=50, out_features=10, bias=True). X shape: torch.Size([1, 10])\n"
          ]
        }
      ]
    },
    {
      "cell_type": "code",
      "source": [
        "NUM_EPOCHS = 10\n",
        "\n",
        "for epoch in range(1, NUM_EPOCHS+1):\n",
        "\n",
        "    start=time.time()\n",
        "    train_loss, train_acc, train_n = 0., 0., 0\n",
        "    test_loss, test_acc, test_n = 0., 0., 0\n",
        "    \n",
        "\n",
        "    model.train()\n",
        "    for X, y in train:\n",
        "        trainer.zero_grad()\n",
        "        y_pred = model(X)\n",
        "        l = loss(y_pred, y)\n",
        "        l.backward()\n",
        "        trainer.step()\n",
        "        train_loss += l.item()\n",
        "        train_acc += (y_pred.argmax(dim=1) == y).sum().item()\n",
        "        train_n += len(X)\n",
        "    \n",
        "    model.eval()\n",
        "    for X, y in test:\n",
        "        y_pred = model(X)\n",
        "        l = loss(y_pred, y)\n",
        "        test_loss += l.item()\n",
        "        test_acc += (y_pred.argmax(dim=1) == y).sum().item()\n",
        "        test_n += len(X)\n",
        "        \n",
        "    print(\"\\nepoch: {}, taked: {:.2f}, train_loss: {:.3f}, train_acc: {:.2f}%, test_loss: {:.3f}, test_acc: {:.2f}%\".format(\n",
        "        epoch, time.time() - start, train_loss / train_n, train_acc / train_n *100 , test_loss / test_n, test_acc / test_n *100))"
      ],
      "metadata": {
        "colab": {
          "base_uri": "https://localhost:8080/"
        },
        "id": "pje3w8m9cIN7",
        "outputId": "ee53fd36-26aa-4ebe-bf21-e1585873cd15"
      },
      "execution_count": null,
      "outputs": [
        {
          "output_type": "stream",
          "name": "stdout",
          "text": [
            "\n",
            "epoch: 1, taked: 79.89, train_loss: 0.506, train_acc: 81.65%, test_loss: 0.354, test_acc: 86.73%\n",
            "\n",
            "epoch: 2, taked: 76.07, train_loss: 0.298, train_acc: 88.98%, test_loss: 0.303, test_acc: 89.05%\n",
            "\n",
            "epoch: 3, taked: 73.66, train_loss: 0.256, train_acc: 90.60%, test_loss: 0.300, test_acc: 89.33%\n",
            "\n",
            "epoch: 4, taked: 73.78, train_loss: 0.233, train_acc: 91.38%, test_loss: 0.270, test_acc: 90.34%\n",
            "\n",
            "epoch: 5, taked: 75.88, train_loss: 0.212, train_acc: 92.20%, test_loss: 0.274, test_acc: 90.47%\n",
            "\n",
            "epoch: 6, taked: 74.22, train_loss: 0.197, train_acc: 92.81%, test_loss: 0.257, test_acc: 90.98%\n",
            "\n",
            "epoch: 7, taked: 75.37, train_loss: 0.187, train_acc: 93.11%, test_loss: 0.273, test_acc: 90.61%\n",
            "\n",
            "epoch: 8, taked: 75.40, train_loss: 0.174, train_acc: 93.53%, test_loss: 0.259, test_acc: 90.82%\n",
            "\n",
            "epoch: 9, taked: 73.18, train_loss: 0.164, train_acc: 93.94%, test_loss: 0.274, test_acc: 90.92%\n",
            "\n",
            "epoch: 10, taked: 74.11, train_loss: 0.154, train_acc: 94.22%, test_loss: 0.281, test_acc: 91.08%\n"
          ]
        }
      ]
    }
  ]
}