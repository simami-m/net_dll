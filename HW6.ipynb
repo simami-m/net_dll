{
  "nbformat": 4,
  "nbformat_minor": 0,
  "metadata": {
    "colab": {
      "provenance": []
    },
    "kernelspec": {
      "name": "python3",
      "display_name": "Python 3"
    },
    "language_info": {
      "name": "python"
    },
    "widgets": {
      "application/vnd.jupyter.widget-state+json": {
        "e031f17d7122495cb95ae63106bccbf9": {
          "model_module": "@jupyter-widgets/controls",
          "model_name": "HBoxModel",
          "model_module_version": "1.5.0",
          "state": {
            "_dom_classes": [],
            "_model_module": "@jupyter-widgets/controls",
            "_model_module_version": "1.5.0",
            "_model_name": "HBoxModel",
            "_view_count": null,
            "_view_module": "@jupyter-widgets/controls",
            "_view_module_version": "1.5.0",
            "_view_name": "HBoxView",
            "box_style": "",
            "children": [
              "IPY_MODEL_25537f46b26c43d9b33ae0d10c7407d4",
              "IPY_MODEL_a18c4374c43849bc981e9420b8eeba8d",
              "IPY_MODEL_dda975ebfb53407eaaf2eac48f3e00c6"
            ],
            "layout": "IPY_MODEL_78b97d1e603d42468b9d7ce93b5ad61a"
          }
        },
        "25537f46b26c43d9b33ae0d10c7407d4": {
          "model_module": "@jupyter-widgets/controls",
          "model_name": "HTMLModel",
          "model_module_version": "1.5.0",
          "state": {
            "_dom_classes": [],
            "_model_module": "@jupyter-widgets/controls",
            "_model_module_version": "1.5.0",
            "_model_name": "HTMLModel",
            "_view_count": null,
            "_view_module": "@jupyter-widgets/controls",
            "_view_module_version": "1.5.0",
            "_view_name": "HTMLView",
            "description": "",
            "description_tooltip": null,
            "layout": "IPY_MODEL_4ccef29fb73e4902b4fedff357f1ec70",
            "placeholder": "​",
            "style": "IPY_MODEL_e2b45bccbc6144e4be3d20cc276fefac",
            "value": "100%"
          }
        },
        "a18c4374c43849bc981e9420b8eeba8d": {
          "model_module": "@jupyter-widgets/controls",
          "model_name": "FloatProgressModel",
          "model_module_version": "1.5.0",
          "state": {
            "_dom_classes": [],
            "_model_module": "@jupyter-widgets/controls",
            "_model_module_version": "1.5.0",
            "_model_name": "FloatProgressModel",
            "_view_count": null,
            "_view_module": "@jupyter-widgets/controls",
            "_view_module_version": "1.5.0",
            "_view_name": "ProgressView",
            "bar_style": "success",
            "description": "",
            "description_tooltip": null,
            "layout": "IPY_MODEL_e2f0086985f346dcb213b69bbf1c5144",
            "max": 378,
            "min": 0,
            "orientation": "horizontal",
            "style": "IPY_MODEL_2f52748686804f8daede70422ef3bb08",
            "value": 378
          }
        },
        "dda975ebfb53407eaaf2eac48f3e00c6": {
          "model_module": "@jupyter-widgets/controls",
          "model_name": "HTMLModel",
          "model_module_version": "1.5.0",
          "state": {
            "_dom_classes": [],
            "_model_module": "@jupyter-widgets/controls",
            "_model_module_version": "1.5.0",
            "_model_name": "HTMLModel",
            "_view_count": null,
            "_view_module": "@jupyter-widgets/controls",
            "_view_module_version": "1.5.0",
            "_view_name": "HTMLView",
            "description": "",
            "description_tooltip": null,
            "layout": "IPY_MODEL_6eb9d96740794a7b94dce52ba4f91364",
            "placeholder": "​",
            "style": "IPY_MODEL_65e6bba7085747f7a7c1ea392d0d8dd7",
            "value": " 378/378 [02:06&lt;00:00,  3.00it/s]"
          }
        },
        "78b97d1e603d42468b9d7ce93b5ad61a": {
          "model_module": "@jupyter-widgets/base",
          "model_name": "LayoutModel",
          "model_module_version": "1.2.0",
          "state": {
            "_model_module": "@jupyter-widgets/base",
            "_model_module_version": "1.2.0",
            "_model_name": "LayoutModel",
            "_view_count": null,
            "_view_module": "@jupyter-widgets/base",
            "_view_module_version": "1.2.0",
            "_view_name": "LayoutView",
            "align_content": null,
            "align_items": null,
            "align_self": null,
            "border": null,
            "bottom": null,
            "display": null,
            "flex": null,
            "flex_flow": null,
            "grid_area": null,
            "grid_auto_columns": null,
            "grid_auto_flow": null,
            "grid_auto_rows": null,
            "grid_column": null,
            "grid_gap": null,
            "grid_row": null,
            "grid_template_areas": null,
            "grid_template_columns": null,
            "grid_template_rows": null,
            "height": null,
            "justify_content": null,
            "justify_items": null,
            "left": null,
            "margin": null,
            "max_height": null,
            "max_width": null,
            "min_height": null,
            "min_width": null,
            "object_fit": null,
            "object_position": null,
            "order": null,
            "overflow": null,
            "overflow_x": null,
            "overflow_y": null,
            "padding": null,
            "right": null,
            "top": null,
            "visibility": null,
            "width": null
          }
        },
        "4ccef29fb73e4902b4fedff357f1ec70": {
          "model_module": "@jupyter-widgets/base",
          "model_name": "LayoutModel",
          "model_module_version": "1.2.0",
          "state": {
            "_model_module": "@jupyter-widgets/base",
            "_model_module_version": "1.2.0",
            "_model_name": "LayoutModel",
            "_view_count": null,
            "_view_module": "@jupyter-widgets/base",
            "_view_module_version": "1.2.0",
            "_view_name": "LayoutView",
            "align_content": null,
            "align_items": null,
            "align_self": null,
            "border": null,
            "bottom": null,
            "display": null,
            "flex": null,
            "flex_flow": null,
            "grid_area": null,
            "grid_auto_columns": null,
            "grid_auto_flow": null,
            "grid_auto_rows": null,
            "grid_column": null,
            "grid_gap": null,
            "grid_row": null,
            "grid_template_areas": null,
            "grid_template_columns": null,
            "grid_template_rows": null,
            "height": null,
            "justify_content": null,
            "justify_items": null,
            "left": null,
            "margin": null,
            "max_height": null,
            "max_width": null,
            "min_height": null,
            "min_width": null,
            "object_fit": null,
            "object_position": null,
            "order": null,
            "overflow": null,
            "overflow_x": null,
            "overflow_y": null,
            "padding": null,
            "right": null,
            "top": null,
            "visibility": null,
            "width": null
          }
        },
        "e2b45bccbc6144e4be3d20cc276fefac": {
          "model_module": "@jupyter-widgets/controls",
          "model_name": "DescriptionStyleModel",
          "model_module_version": "1.5.0",
          "state": {
            "_model_module": "@jupyter-widgets/controls",
            "_model_module_version": "1.5.0",
            "_model_name": "DescriptionStyleModel",
            "_view_count": null,
            "_view_module": "@jupyter-widgets/base",
            "_view_module_version": "1.2.0",
            "_view_name": "StyleView",
            "description_width": ""
          }
        },
        "e2f0086985f346dcb213b69bbf1c5144": {
          "model_module": "@jupyter-widgets/base",
          "model_name": "LayoutModel",
          "model_module_version": "1.2.0",
          "state": {
            "_model_module": "@jupyter-widgets/base",
            "_model_module_version": "1.2.0",
            "_model_name": "LayoutModel",
            "_view_count": null,
            "_view_module": "@jupyter-widgets/base",
            "_view_module_version": "1.2.0",
            "_view_name": "LayoutView",
            "align_content": null,
            "align_items": null,
            "align_self": null,
            "border": null,
            "bottom": null,
            "display": null,
            "flex": null,
            "flex_flow": null,
            "grid_area": null,
            "grid_auto_columns": null,
            "grid_auto_flow": null,
            "grid_auto_rows": null,
            "grid_column": null,
            "grid_gap": null,
            "grid_row": null,
            "grid_template_areas": null,
            "grid_template_columns": null,
            "grid_template_rows": null,
            "height": null,
            "justify_content": null,
            "justify_items": null,
            "left": null,
            "margin": null,
            "max_height": null,
            "max_width": null,
            "min_height": null,
            "min_width": null,
            "object_fit": null,
            "object_position": null,
            "order": null,
            "overflow": null,
            "overflow_x": null,
            "overflow_y": null,
            "padding": null,
            "right": null,
            "top": null,
            "visibility": null,
            "width": null
          }
        },
        "2f52748686804f8daede70422ef3bb08": {
          "model_module": "@jupyter-widgets/controls",
          "model_name": "ProgressStyleModel",
          "model_module_version": "1.5.0",
          "state": {
            "_model_module": "@jupyter-widgets/controls",
            "_model_module_version": "1.5.0",
            "_model_name": "ProgressStyleModel",
            "_view_count": null,
            "_view_module": "@jupyter-widgets/base",
            "_view_module_version": "1.2.0",
            "_view_name": "StyleView",
            "bar_color": null,
            "description_width": ""
          }
        },
        "6eb9d96740794a7b94dce52ba4f91364": {
          "model_module": "@jupyter-widgets/base",
          "model_name": "LayoutModel",
          "model_module_version": "1.2.0",
          "state": {
            "_model_module": "@jupyter-widgets/base",
            "_model_module_version": "1.2.0",
            "_model_name": "LayoutModel",
            "_view_count": null,
            "_view_module": "@jupyter-widgets/base",
            "_view_module_version": "1.2.0",
            "_view_name": "LayoutView",
            "align_content": null,
            "align_items": null,
            "align_self": null,
            "border": null,
            "bottom": null,
            "display": null,
            "flex": null,
            "flex_flow": null,
            "grid_area": null,
            "grid_auto_columns": null,
            "grid_auto_flow": null,
            "grid_auto_rows": null,
            "grid_column": null,
            "grid_gap": null,
            "grid_row": null,
            "grid_template_areas": null,
            "grid_template_columns": null,
            "grid_template_rows": null,
            "height": null,
            "justify_content": null,
            "justify_items": null,
            "left": null,
            "margin": null,
            "max_height": null,
            "max_width": null,
            "min_height": null,
            "min_width": null,
            "object_fit": null,
            "object_position": null,
            "order": null,
            "overflow": null,
            "overflow_x": null,
            "overflow_y": null,
            "padding": null,
            "right": null,
            "top": null,
            "visibility": null,
            "width": null
          }
        },
        "65e6bba7085747f7a7c1ea392d0d8dd7": {
          "model_module": "@jupyter-widgets/controls",
          "model_name": "DescriptionStyleModel",
          "model_module_version": "1.5.0",
          "state": {
            "_model_module": "@jupyter-widgets/controls",
            "_model_module_version": "1.5.0",
            "_model_name": "DescriptionStyleModel",
            "_view_count": null,
            "_view_module": "@jupyter-widgets/base",
            "_view_module_version": "1.2.0",
            "_view_name": "StyleView",
            "description_width": ""
          }
        },
        "a13965e7149042a0b1edcac236f089d8": {
          "model_module": "@jupyter-widgets/controls",
          "model_name": "HBoxModel",
          "model_module_version": "1.5.0",
          "state": {
            "_dom_classes": [],
            "_model_module": "@jupyter-widgets/controls",
            "_model_module_version": "1.5.0",
            "_model_name": "HBoxModel",
            "_view_count": null,
            "_view_module": "@jupyter-widgets/controls",
            "_view_module_version": "1.5.0",
            "_view_name": "HBoxView",
            "box_style": "",
            "children": [
              "IPY_MODEL_3e3972d4cb064d2db2943fbd6c24d00b",
              "IPY_MODEL_cca44e704a6c4780839313567ed375f9",
              "IPY_MODEL_7a05ea89763d460fb4d8b09c004e5961"
            ],
            "layout": "IPY_MODEL_16f1c24ad53a45fb86f41f65db91f97c"
          }
        },
        "3e3972d4cb064d2db2943fbd6c24d00b": {
          "model_module": "@jupyter-widgets/controls",
          "model_name": "HTMLModel",
          "model_module_version": "1.5.0",
          "state": {
            "_dom_classes": [],
            "_model_module": "@jupyter-widgets/controls",
            "_model_module_version": "1.5.0",
            "_model_name": "HTMLModel",
            "_view_count": null,
            "_view_module": "@jupyter-widgets/controls",
            "_view_module_version": "1.5.0",
            "_view_name": "HTMLView",
            "description": "",
            "description_tooltip": null,
            "layout": "IPY_MODEL_0d8f3dfd5be84cd496ee373244d086ac",
            "placeholder": "​",
            "style": "IPY_MODEL_c2e03e953cd44cf8b84cfd11d29544aa",
            "value": "100%"
          }
        },
        "cca44e704a6c4780839313567ed375f9": {
          "model_module": "@jupyter-widgets/controls",
          "model_name": "FloatProgressModel",
          "model_module_version": "1.5.0",
          "state": {
            "_dom_classes": [],
            "_model_module": "@jupyter-widgets/controls",
            "_model_module_version": "1.5.0",
            "_model_name": "FloatProgressModel",
            "_view_count": null,
            "_view_module": "@jupyter-widgets/controls",
            "_view_module_version": "1.5.0",
            "_view_name": "ProgressView",
            "bar_style": "success",
            "description": "",
            "description_tooltip": null,
            "layout": "IPY_MODEL_15699cacb5ce4272b117d75a79b46ea7",
            "max": 378,
            "min": 0,
            "orientation": "horizontal",
            "style": "IPY_MODEL_89638adf5ef94b5388263dee6e6ef517",
            "value": 378
          }
        },
        "7a05ea89763d460fb4d8b09c004e5961": {
          "model_module": "@jupyter-widgets/controls",
          "model_name": "HTMLModel",
          "model_module_version": "1.5.0",
          "state": {
            "_dom_classes": [],
            "_model_module": "@jupyter-widgets/controls",
            "_model_module_version": "1.5.0",
            "_model_name": "HTMLModel",
            "_view_count": null,
            "_view_module": "@jupyter-widgets/controls",
            "_view_module_version": "1.5.0",
            "_view_name": "HTMLView",
            "description": "",
            "description_tooltip": null,
            "layout": "IPY_MODEL_d32b47963bca4cde93271fc695ffdde1",
            "placeholder": "​",
            "style": "IPY_MODEL_d6139cef65b14da8841f9aac2860dd0e",
            "value": " 378/378 [02:07&lt;00:00,  2.95it/s]"
          }
        },
        "16f1c24ad53a45fb86f41f65db91f97c": {
          "model_module": "@jupyter-widgets/base",
          "model_name": "LayoutModel",
          "model_module_version": "1.2.0",
          "state": {
            "_model_module": "@jupyter-widgets/base",
            "_model_module_version": "1.2.0",
            "_model_name": "LayoutModel",
            "_view_count": null,
            "_view_module": "@jupyter-widgets/base",
            "_view_module_version": "1.2.0",
            "_view_name": "LayoutView",
            "align_content": null,
            "align_items": null,
            "align_self": null,
            "border": null,
            "bottom": null,
            "display": null,
            "flex": null,
            "flex_flow": null,
            "grid_area": null,
            "grid_auto_columns": null,
            "grid_auto_flow": null,
            "grid_auto_rows": null,
            "grid_column": null,
            "grid_gap": null,
            "grid_row": null,
            "grid_template_areas": null,
            "grid_template_columns": null,
            "grid_template_rows": null,
            "height": null,
            "justify_content": null,
            "justify_items": null,
            "left": null,
            "margin": null,
            "max_height": null,
            "max_width": null,
            "min_height": null,
            "min_width": null,
            "object_fit": null,
            "object_position": null,
            "order": null,
            "overflow": null,
            "overflow_x": null,
            "overflow_y": null,
            "padding": null,
            "right": null,
            "top": null,
            "visibility": null,
            "width": null
          }
        },
        "0d8f3dfd5be84cd496ee373244d086ac": {
          "model_module": "@jupyter-widgets/base",
          "model_name": "LayoutModel",
          "model_module_version": "1.2.0",
          "state": {
            "_model_module": "@jupyter-widgets/base",
            "_model_module_version": "1.2.0",
            "_model_name": "LayoutModel",
            "_view_count": null,
            "_view_module": "@jupyter-widgets/base",
            "_view_module_version": "1.2.0",
            "_view_name": "LayoutView",
            "align_content": null,
            "align_items": null,
            "align_self": null,
            "border": null,
            "bottom": null,
            "display": null,
            "flex": null,
            "flex_flow": null,
            "grid_area": null,
            "grid_auto_columns": null,
            "grid_auto_flow": null,
            "grid_auto_rows": null,
            "grid_column": null,
            "grid_gap": null,
            "grid_row": null,
            "grid_template_areas": null,
            "grid_template_columns": null,
            "grid_template_rows": null,
            "height": null,
            "justify_content": null,
            "justify_items": null,
            "left": null,
            "margin": null,
            "max_height": null,
            "max_width": null,
            "min_height": null,
            "min_width": null,
            "object_fit": null,
            "object_position": null,
            "order": null,
            "overflow": null,
            "overflow_x": null,
            "overflow_y": null,
            "padding": null,
            "right": null,
            "top": null,
            "visibility": null,
            "width": null
          }
        },
        "c2e03e953cd44cf8b84cfd11d29544aa": {
          "model_module": "@jupyter-widgets/controls",
          "model_name": "DescriptionStyleModel",
          "model_module_version": "1.5.0",
          "state": {
            "_model_module": "@jupyter-widgets/controls",
            "_model_module_version": "1.5.0",
            "_model_name": "DescriptionStyleModel",
            "_view_count": null,
            "_view_module": "@jupyter-widgets/base",
            "_view_module_version": "1.2.0",
            "_view_name": "StyleView",
            "description_width": ""
          }
        },
        "15699cacb5ce4272b117d75a79b46ea7": {
          "model_module": "@jupyter-widgets/base",
          "model_name": "LayoutModel",
          "model_module_version": "1.2.0",
          "state": {
            "_model_module": "@jupyter-widgets/base",
            "_model_module_version": "1.2.0",
            "_model_name": "LayoutModel",
            "_view_count": null,
            "_view_module": "@jupyter-widgets/base",
            "_view_module_version": "1.2.0",
            "_view_name": "LayoutView",
            "align_content": null,
            "align_items": null,
            "align_self": null,
            "border": null,
            "bottom": null,
            "display": null,
            "flex": null,
            "flex_flow": null,
            "grid_area": null,
            "grid_auto_columns": null,
            "grid_auto_flow": null,
            "grid_auto_rows": null,
            "grid_column": null,
            "grid_gap": null,
            "grid_row": null,
            "grid_template_areas": null,
            "grid_template_columns": null,
            "grid_template_rows": null,
            "height": null,
            "justify_content": null,
            "justify_items": null,
            "left": null,
            "margin": null,
            "max_height": null,
            "max_width": null,
            "min_height": null,
            "min_width": null,
            "object_fit": null,
            "object_position": null,
            "order": null,
            "overflow": null,
            "overflow_x": null,
            "overflow_y": null,
            "padding": null,
            "right": null,
            "top": null,
            "visibility": null,
            "width": null
          }
        },
        "89638adf5ef94b5388263dee6e6ef517": {
          "model_module": "@jupyter-widgets/controls",
          "model_name": "ProgressStyleModel",
          "model_module_version": "1.5.0",
          "state": {
            "_model_module": "@jupyter-widgets/controls",
            "_model_module_version": "1.5.0",
            "_model_name": "ProgressStyleModel",
            "_view_count": null,
            "_view_module": "@jupyter-widgets/base",
            "_view_module_version": "1.2.0",
            "_view_name": "StyleView",
            "bar_color": null,
            "description_width": ""
          }
        },
        "d32b47963bca4cde93271fc695ffdde1": {
          "model_module": "@jupyter-widgets/base",
          "model_name": "LayoutModel",
          "model_module_version": "1.2.0",
          "state": {
            "_model_module": "@jupyter-widgets/base",
            "_model_module_version": "1.2.0",
            "_model_name": "LayoutModel",
            "_view_count": null,
            "_view_module": "@jupyter-widgets/base",
            "_view_module_version": "1.2.0",
            "_view_name": "LayoutView",
            "align_content": null,
            "align_items": null,
            "align_self": null,
            "border": null,
            "bottom": null,
            "display": null,
            "flex": null,
            "flex_flow": null,
            "grid_area": null,
            "grid_auto_columns": null,
            "grid_auto_flow": null,
            "grid_auto_rows": null,
            "grid_column": null,
            "grid_gap": null,
            "grid_row": null,
            "grid_template_areas": null,
            "grid_template_columns": null,
            "grid_template_rows": null,
            "height": null,
            "justify_content": null,
            "justify_items": null,
            "left": null,
            "margin": null,
            "max_height": null,
            "max_width": null,
            "min_height": null,
            "min_width": null,
            "object_fit": null,
            "object_position": null,
            "order": null,
            "overflow": null,
            "overflow_x": null,
            "overflow_y": null,
            "padding": null,
            "right": null,
            "top": null,
            "visibility": null,
            "width": null
          }
        },
        "d6139cef65b14da8841f9aac2860dd0e": {
          "model_module": "@jupyter-widgets/controls",
          "model_name": "DescriptionStyleModel",
          "model_module_version": "1.5.0",
          "state": {
            "_model_module": "@jupyter-widgets/controls",
            "_model_module_version": "1.5.0",
            "_model_name": "DescriptionStyleModel",
            "_view_count": null,
            "_view_module": "@jupyter-widgets/base",
            "_view_module_version": "1.2.0",
            "_view_name": "StyleView",
            "description_width": ""
          }
        },
        "eb58793a516341d58e4fb60cd0ea8283": {
          "model_module": "@jupyter-widgets/controls",
          "model_name": "HBoxModel",
          "model_module_version": "1.5.0",
          "state": {
            "_dom_classes": [],
            "_model_module": "@jupyter-widgets/controls",
            "_model_module_version": "1.5.0",
            "_model_name": "HBoxModel",
            "_view_count": null,
            "_view_module": "@jupyter-widgets/controls",
            "_view_module_version": "1.5.0",
            "_view_name": "HBoxView",
            "box_style": "",
            "children": [
              "IPY_MODEL_39a03ec243ae4506a8549528c876409f",
              "IPY_MODEL_5b43ccc1b6b141658f9f8f0faa5ac1ef",
              "IPY_MODEL_02465ea14da241919bada8f0efbe4178"
            ],
            "layout": "IPY_MODEL_64719e02d01d42a593a5199f8f640b55"
          }
        },
        "39a03ec243ae4506a8549528c876409f": {
          "model_module": "@jupyter-widgets/controls",
          "model_name": "HTMLModel",
          "model_module_version": "1.5.0",
          "state": {
            "_dom_classes": [],
            "_model_module": "@jupyter-widgets/controls",
            "_model_module_version": "1.5.0",
            "_model_name": "HTMLModel",
            "_view_count": null,
            "_view_module": "@jupyter-widgets/controls",
            "_view_module_version": "1.5.0",
            "_view_name": "HTMLView",
            "description": "",
            "description_tooltip": null,
            "layout": "IPY_MODEL_86cb81dac36249be90bb4158709bc46c",
            "placeholder": "​",
            "style": "IPY_MODEL_55b835c09aed4db682aae52f6a1d555c",
            "value": "100%"
          }
        },
        "5b43ccc1b6b141658f9f8f0faa5ac1ef": {
          "model_module": "@jupyter-widgets/controls",
          "model_name": "FloatProgressModel",
          "model_module_version": "1.5.0",
          "state": {
            "_dom_classes": [],
            "_model_module": "@jupyter-widgets/controls",
            "_model_module_version": "1.5.0",
            "_model_name": "FloatProgressModel",
            "_view_count": null,
            "_view_module": "@jupyter-widgets/controls",
            "_view_module_version": "1.5.0",
            "_view_name": "ProgressView",
            "bar_style": "success",
            "description": "",
            "description_tooltip": null,
            "layout": "IPY_MODEL_76bebd7c08a54ac5bfd82f58c0a5be14",
            "max": 378,
            "min": 0,
            "orientation": "horizontal",
            "style": "IPY_MODEL_07992685e7b24481a9248b1834a62f06",
            "value": 378
          }
        },
        "02465ea14da241919bada8f0efbe4178": {
          "model_module": "@jupyter-widgets/controls",
          "model_name": "HTMLModel",
          "model_module_version": "1.5.0",
          "state": {
            "_dom_classes": [],
            "_model_module": "@jupyter-widgets/controls",
            "_model_module_version": "1.5.0",
            "_model_name": "HTMLModel",
            "_view_count": null,
            "_view_module": "@jupyter-widgets/controls",
            "_view_module_version": "1.5.0",
            "_view_name": "HTMLView",
            "description": "",
            "description_tooltip": null,
            "layout": "IPY_MODEL_6bcfb3c14c4845fcb295b816bc58465e",
            "placeholder": "​",
            "style": "IPY_MODEL_a2c990d663b44eb5a8ac69fbd70c548a",
            "value": " 378/378 [02:05&lt;00:00,  2.98it/s]"
          }
        },
        "64719e02d01d42a593a5199f8f640b55": {
          "model_module": "@jupyter-widgets/base",
          "model_name": "LayoutModel",
          "model_module_version": "1.2.0",
          "state": {
            "_model_module": "@jupyter-widgets/base",
            "_model_module_version": "1.2.0",
            "_model_name": "LayoutModel",
            "_view_count": null,
            "_view_module": "@jupyter-widgets/base",
            "_view_module_version": "1.2.0",
            "_view_name": "LayoutView",
            "align_content": null,
            "align_items": null,
            "align_self": null,
            "border": null,
            "bottom": null,
            "display": null,
            "flex": null,
            "flex_flow": null,
            "grid_area": null,
            "grid_auto_columns": null,
            "grid_auto_flow": null,
            "grid_auto_rows": null,
            "grid_column": null,
            "grid_gap": null,
            "grid_row": null,
            "grid_template_areas": null,
            "grid_template_columns": null,
            "grid_template_rows": null,
            "height": null,
            "justify_content": null,
            "justify_items": null,
            "left": null,
            "margin": null,
            "max_height": null,
            "max_width": null,
            "min_height": null,
            "min_width": null,
            "object_fit": null,
            "object_position": null,
            "order": null,
            "overflow": null,
            "overflow_x": null,
            "overflow_y": null,
            "padding": null,
            "right": null,
            "top": null,
            "visibility": null,
            "width": null
          }
        },
        "86cb81dac36249be90bb4158709bc46c": {
          "model_module": "@jupyter-widgets/base",
          "model_name": "LayoutModel",
          "model_module_version": "1.2.0",
          "state": {
            "_model_module": "@jupyter-widgets/base",
            "_model_module_version": "1.2.0",
            "_model_name": "LayoutModel",
            "_view_count": null,
            "_view_module": "@jupyter-widgets/base",
            "_view_module_version": "1.2.0",
            "_view_name": "LayoutView",
            "align_content": null,
            "align_items": null,
            "align_self": null,
            "border": null,
            "bottom": null,
            "display": null,
            "flex": null,
            "flex_flow": null,
            "grid_area": null,
            "grid_auto_columns": null,
            "grid_auto_flow": null,
            "grid_auto_rows": null,
            "grid_column": null,
            "grid_gap": null,
            "grid_row": null,
            "grid_template_areas": null,
            "grid_template_columns": null,
            "grid_template_rows": null,
            "height": null,
            "justify_content": null,
            "justify_items": null,
            "left": null,
            "margin": null,
            "max_height": null,
            "max_width": null,
            "min_height": null,
            "min_width": null,
            "object_fit": null,
            "object_position": null,
            "order": null,
            "overflow": null,
            "overflow_x": null,
            "overflow_y": null,
            "padding": null,
            "right": null,
            "top": null,
            "visibility": null,
            "width": null
          }
        },
        "55b835c09aed4db682aae52f6a1d555c": {
          "model_module": "@jupyter-widgets/controls",
          "model_name": "DescriptionStyleModel",
          "model_module_version": "1.5.0",
          "state": {
            "_model_module": "@jupyter-widgets/controls",
            "_model_module_version": "1.5.0",
            "_model_name": "DescriptionStyleModel",
            "_view_count": null,
            "_view_module": "@jupyter-widgets/base",
            "_view_module_version": "1.2.0",
            "_view_name": "StyleView",
            "description_width": ""
          }
        },
        "76bebd7c08a54ac5bfd82f58c0a5be14": {
          "model_module": "@jupyter-widgets/base",
          "model_name": "LayoutModel",
          "model_module_version": "1.2.0",
          "state": {
            "_model_module": "@jupyter-widgets/base",
            "_model_module_version": "1.2.0",
            "_model_name": "LayoutModel",
            "_view_count": null,
            "_view_module": "@jupyter-widgets/base",
            "_view_module_version": "1.2.0",
            "_view_name": "LayoutView",
            "align_content": null,
            "align_items": null,
            "align_self": null,
            "border": null,
            "bottom": null,
            "display": null,
            "flex": null,
            "flex_flow": null,
            "grid_area": null,
            "grid_auto_columns": null,
            "grid_auto_flow": null,
            "grid_auto_rows": null,
            "grid_column": null,
            "grid_gap": null,
            "grid_row": null,
            "grid_template_areas": null,
            "grid_template_columns": null,
            "grid_template_rows": null,
            "height": null,
            "justify_content": null,
            "justify_items": null,
            "left": null,
            "margin": null,
            "max_height": null,
            "max_width": null,
            "min_height": null,
            "min_width": null,
            "object_fit": null,
            "object_position": null,
            "order": null,
            "overflow": null,
            "overflow_x": null,
            "overflow_y": null,
            "padding": null,
            "right": null,
            "top": null,
            "visibility": null,
            "width": null
          }
        },
        "07992685e7b24481a9248b1834a62f06": {
          "model_module": "@jupyter-widgets/controls",
          "model_name": "ProgressStyleModel",
          "model_module_version": "1.5.0",
          "state": {
            "_model_module": "@jupyter-widgets/controls",
            "_model_module_version": "1.5.0",
            "_model_name": "ProgressStyleModel",
            "_view_count": null,
            "_view_module": "@jupyter-widgets/base",
            "_view_module_version": "1.2.0",
            "_view_name": "StyleView",
            "bar_color": null,
            "description_width": ""
          }
        },
        "6bcfb3c14c4845fcb295b816bc58465e": {
          "model_module": "@jupyter-widgets/base",
          "model_name": "LayoutModel",
          "model_module_version": "1.2.0",
          "state": {
            "_model_module": "@jupyter-widgets/base",
            "_model_module_version": "1.2.0",
            "_model_name": "LayoutModel",
            "_view_count": null,
            "_view_module": "@jupyter-widgets/base",
            "_view_module_version": "1.2.0",
            "_view_name": "LayoutView",
            "align_content": null,
            "align_items": null,
            "align_self": null,
            "border": null,
            "bottom": null,
            "display": null,
            "flex": null,
            "flex_flow": null,
            "grid_area": null,
            "grid_auto_columns": null,
            "grid_auto_flow": null,
            "grid_auto_rows": null,
            "grid_column": null,
            "grid_gap": null,
            "grid_row": null,
            "grid_template_areas": null,
            "grid_template_columns": null,
            "grid_template_rows": null,
            "height": null,
            "justify_content": null,
            "justify_items": null,
            "left": null,
            "margin": null,
            "max_height": null,
            "max_width": null,
            "min_height": null,
            "min_width": null,
            "object_fit": null,
            "object_position": null,
            "order": null,
            "overflow": null,
            "overflow_x": null,
            "overflow_y": null,
            "padding": null,
            "right": null,
            "top": null,
            "visibility": null,
            "width": null
          }
        },
        "a2c990d663b44eb5a8ac69fbd70c548a": {
          "model_module": "@jupyter-widgets/controls",
          "model_name": "DescriptionStyleModel",
          "model_module_version": "1.5.0",
          "state": {
            "_model_module": "@jupyter-widgets/controls",
            "_model_module_version": "1.5.0",
            "_model_name": "DescriptionStyleModel",
            "_view_count": null,
            "_view_module": "@jupyter-widgets/base",
            "_view_module_version": "1.2.0",
            "_view_name": "StyleView",
            "description_width": ""
          }
        },
        "42819ead7a9a4d05b3685af8bb4a50f6": {
          "model_module": "@jupyter-widgets/controls",
          "model_name": "HBoxModel",
          "model_module_version": "1.5.0",
          "state": {
            "_dom_classes": [],
            "_model_module": "@jupyter-widgets/controls",
            "_model_module_version": "1.5.0",
            "_model_name": "HBoxModel",
            "_view_count": null,
            "_view_module": "@jupyter-widgets/controls",
            "_view_module_version": "1.5.0",
            "_view_name": "HBoxView",
            "box_style": "",
            "children": [
              "IPY_MODEL_a8e5dd139d764134b88125895f766f9a",
              "IPY_MODEL_7da6d64e74bf4d70b04ffe01047618e7",
              "IPY_MODEL_65fb1b0990ec42699c914a5375a2bbc1"
            ],
            "layout": "IPY_MODEL_669ebcbd4c3842c5b6669298f61e5bde"
          }
        },
        "a8e5dd139d764134b88125895f766f9a": {
          "model_module": "@jupyter-widgets/controls",
          "model_name": "HTMLModel",
          "model_module_version": "1.5.0",
          "state": {
            "_dom_classes": [],
            "_model_module": "@jupyter-widgets/controls",
            "_model_module_version": "1.5.0",
            "_model_name": "HTMLModel",
            "_view_count": null,
            "_view_module": "@jupyter-widgets/controls",
            "_view_module_version": "1.5.0",
            "_view_name": "HTMLView",
            "description": "",
            "description_tooltip": null,
            "layout": "IPY_MODEL_424689c7dda3418e9ea21ec4f640e44b",
            "placeholder": "​",
            "style": "IPY_MODEL_6c525eee5af14d4aa2903c57c8688d31",
            "value": "100%"
          }
        },
        "7da6d64e74bf4d70b04ffe01047618e7": {
          "model_module": "@jupyter-widgets/controls",
          "model_name": "FloatProgressModel",
          "model_module_version": "1.5.0",
          "state": {
            "_dom_classes": [],
            "_model_module": "@jupyter-widgets/controls",
            "_model_module_version": "1.5.0",
            "_model_name": "FloatProgressModel",
            "_view_count": null,
            "_view_module": "@jupyter-widgets/controls",
            "_view_module_version": "1.5.0",
            "_view_name": "ProgressView",
            "bar_style": "success",
            "description": "",
            "description_tooltip": null,
            "layout": "IPY_MODEL_d158f329f6324111b3b59eedd4bcf471",
            "max": 378,
            "min": 0,
            "orientation": "horizontal",
            "style": "IPY_MODEL_7a5004c1aa62407b97930c268a592af9",
            "value": 378
          }
        },
        "65fb1b0990ec42699c914a5375a2bbc1": {
          "model_module": "@jupyter-widgets/controls",
          "model_name": "HTMLModel",
          "model_module_version": "1.5.0",
          "state": {
            "_dom_classes": [],
            "_model_module": "@jupyter-widgets/controls",
            "_model_module_version": "1.5.0",
            "_model_name": "HTMLModel",
            "_view_count": null,
            "_view_module": "@jupyter-widgets/controls",
            "_view_module_version": "1.5.0",
            "_view_name": "HTMLView",
            "description": "",
            "description_tooltip": null,
            "layout": "IPY_MODEL_9bcb8b916674412db702e99c43144330",
            "placeholder": "​",
            "style": "IPY_MODEL_4a94cb0dc84b4b4cb7173e4baba95a2f",
            "value": " 378/378 [02:07&lt;00:00,  2.97it/s]"
          }
        },
        "669ebcbd4c3842c5b6669298f61e5bde": {
          "model_module": "@jupyter-widgets/base",
          "model_name": "LayoutModel",
          "model_module_version": "1.2.0",
          "state": {
            "_model_module": "@jupyter-widgets/base",
            "_model_module_version": "1.2.0",
            "_model_name": "LayoutModel",
            "_view_count": null,
            "_view_module": "@jupyter-widgets/base",
            "_view_module_version": "1.2.0",
            "_view_name": "LayoutView",
            "align_content": null,
            "align_items": null,
            "align_self": null,
            "border": null,
            "bottom": null,
            "display": null,
            "flex": null,
            "flex_flow": null,
            "grid_area": null,
            "grid_auto_columns": null,
            "grid_auto_flow": null,
            "grid_auto_rows": null,
            "grid_column": null,
            "grid_gap": null,
            "grid_row": null,
            "grid_template_areas": null,
            "grid_template_columns": null,
            "grid_template_rows": null,
            "height": null,
            "justify_content": null,
            "justify_items": null,
            "left": null,
            "margin": null,
            "max_height": null,
            "max_width": null,
            "min_height": null,
            "min_width": null,
            "object_fit": null,
            "object_position": null,
            "order": null,
            "overflow": null,
            "overflow_x": null,
            "overflow_y": null,
            "padding": null,
            "right": null,
            "top": null,
            "visibility": null,
            "width": null
          }
        },
        "424689c7dda3418e9ea21ec4f640e44b": {
          "model_module": "@jupyter-widgets/base",
          "model_name": "LayoutModel",
          "model_module_version": "1.2.0",
          "state": {
            "_model_module": "@jupyter-widgets/base",
            "_model_module_version": "1.2.0",
            "_model_name": "LayoutModel",
            "_view_count": null,
            "_view_module": "@jupyter-widgets/base",
            "_view_module_version": "1.2.0",
            "_view_name": "LayoutView",
            "align_content": null,
            "align_items": null,
            "align_self": null,
            "border": null,
            "bottom": null,
            "display": null,
            "flex": null,
            "flex_flow": null,
            "grid_area": null,
            "grid_auto_columns": null,
            "grid_auto_flow": null,
            "grid_auto_rows": null,
            "grid_column": null,
            "grid_gap": null,
            "grid_row": null,
            "grid_template_areas": null,
            "grid_template_columns": null,
            "grid_template_rows": null,
            "height": null,
            "justify_content": null,
            "justify_items": null,
            "left": null,
            "margin": null,
            "max_height": null,
            "max_width": null,
            "min_height": null,
            "min_width": null,
            "object_fit": null,
            "object_position": null,
            "order": null,
            "overflow": null,
            "overflow_x": null,
            "overflow_y": null,
            "padding": null,
            "right": null,
            "top": null,
            "visibility": null,
            "width": null
          }
        },
        "6c525eee5af14d4aa2903c57c8688d31": {
          "model_module": "@jupyter-widgets/controls",
          "model_name": "DescriptionStyleModel",
          "model_module_version": "1.5.0",
          "state": {
            "_model_module": "@jupyter-widgets/controls",
            "_model_module_version": "1.5.0",
            "_model_name": "DescriptionStyleModel",
            "_view_count": null,
            "_view_module": "@jupyter-widgets/base",
            "_view_module_version": "1.2.0",
            "_view_name": "StyleView",
            "description_width": ""
          }
        },
        "d158f329f6324111b3b59eedd4bcf471": {
          "model_module": "@jupyter-widgets/base",
          "model_name": "LayoutModel",
          "model_module_version": "1.2.0",
          "state": {
            "_model_module": "@jupyter-widgets/base",
            "_model_module_version": "1.2.0",
            "_model_name": "LayoutModel",
            "_view_count": null,
            "_view_module": "@jupyter-widgets/base",
            "_view_module_version": "1.2.0",
            "_view_name": "LayoutView",
            "align_content": null,
            "align_items": null,
            "align_self": null,
            "border": null,
            "bottom": null,
            "display": null,
            "flex": null,
            "flex_flow": null,
            "grid_area": null,
            "grid_auto_columns": null,
            "grid_auto_flow": null,
            "grid_auto_rows": null,
            "grid_column": null,
            "grid_gap": null,
            "grid_row": null,
            "grid_template_areas": null,
            "grid_template_columns": null,
            "grid_template_rows": null,
            "height": null,
            "justify_content": null,
            "justify_items": null,
            "left": null,
            "margin": null,
            "max_height": null,
            "max_width": null,
            "min_height": null,
            "min_width": null,
            "object_fit": null,
            "object_position": null,
            "order": null,
            "overflow": null,
            "overflow_x": null,
            "overflow_y": null,
            "padding": null,
            "right": null,
            "top": null,
            "visibility": null,
            "width": null
          }
        },
        "7a5004c1aa62407b97930c268a592af9": {
          "model_module": "@jupyter-widgets/controls",
          "model_name": "ProgressStyleModel",
          "model_module_version": "1.5.0",
          "state": {
            "_model_module": "@jupyter-widgets/controls",
            "_model_module_version": "1.5.0",
            "_model_name": "ProgressStyleModel",
            "_view_count": null,
            "_view_module": "@jupyter-widgets/base",
            "_view_module_version": "1.2.0",
            "_view_name": "StyleView",
            "bar_color": null,
            "description_width": ""
          }
        },
        "9bcb8b916674412db702e99c43144330": {
          "model_module": "@jupyter-widgets/base",
          "model_name": "LayoutModel",
          "model_module_version": "1.2.0",
          "state": {
            "_model_module": "@jupyter-widgets/base",
            "_model_module_version": "1.2.0",
            "_model_name": "LayoutModel",
            "_view_count": null,
            "_view_module": "@jupyter-widgets/base",
            "_view_module_version": "1.2.0",
            "_view_name": "LayoutView",
            "align_content": null,
            "align_items": null,
            "align_self": null,
            "border": null,
            "bottom": null,
            "display": null,
            "flex": null,
            "flex_flow": null,
            "grid_area": null,
            "grid_auto_columns": null,
            "grid_auto_flow": null,
            "grid_auto_rows": null,
            "grid_column": null,
            "grid_gap": null,
            "grid_row": null,
            "grid_template_areas": null,
            "grid_template_columns": null,
            "grid_template_rows": null,
            "height": null,
            "justify_content": null,
            "justify_items": null,
            "left": null,
            "margin": null,
            "max_height": null,
            "max_width": null,
            "min_height": null,
            "min_width": null,
            "object_fit": null,
            "object_position": null,
            "order": null,
            "overflow": null,
            "overflow_x": null,
            "overflow_y": null,
            "padding": null,
            "right": null,
            "top": null,
            "visibility": null,
            "width": null
          }
        },
        "4a94cb0dc84b4b4cb7173e4baba95a2f": {
          "model_module": "@jupyter-widgets/controls",
          "model_name": "DescriptionStyleModel",
          "model_module_version": "1.5.0",
          "state": {
            "_model_module": "@jupyter-widgets/controls",
            "_model_module_version": "1.5.0",
            "_model_name": "DescriptionStyleModel",
            "_view_count": null,
            "_view_module": "@jupyter-widgets/base",
            "_view_module_version": "1.2.0",
            "_view_name": "StyleView",
            "description_width": ""
          }
        },
        "ad6e51625011471ea0567ccca447530e": {
          "model_module": "@jupyter-widgets/controls",
          "model_name": "HBoxModel",
          "model_module_version": "1.5.0",
          "state": {
            "_dom_classes": [],
            "_model_module": "@jupyter-widgets/controls",
            "_model_module_version": "1.5.0",
            "_model_name": "HBoxModel",
            "_view_count": null,
            "_view_module": "@jupyter-widgets/controls",
            "_view_module_version": "1.5.0",
            "_view_name": "HBoxView",
            "box_style": "",
            "children": [
              "IPY_MODEL_377a57aa386e41498ad8dd20b52afe8f",
              "IPY_MODEL_230f8dfdd60044b1a36b43f9ad162084",
              "IPY_MODEL_23cfa503f5314d14a9a24dedb987eb97"
            ],
            "layout": "IPY_MODEL_b662cd911acd461bb38a9b641a18ab85"
          }
        },
        "377a57aa386e41498ad8dd20b52afe8f": {
          "model_module": "@jupyter-widgets/controls",
          "model_name": "HTMLModel",
          "model_module_version": "1.5.0",
          "state": {
            "_dom_classes": [],
            "_model_module": "@jupyter-widgets/controls",
            "_model_module_version": "1.5.0",
            "_model_name": "HTMLModel",
            "_view_count": null,
            "_view_module": "@jupyter-widgets/controls",
            "_view_module_version": "1.5.0",
            "_view_name": "HTMLView",
            "description": "",
            "description_tooltip": null,
            "layout": "IPY_MODEL_10a7ab1bf532436d91aa64bda83fa3af",
            "placeholder": "​",
            "style": "IPY_MODEL_6e9a44c73e554b5083986ef631cca85c",
            "value": "100%"
          }
        },
        "230f8dfdd60044b1a36b43f9ad162084": {
          "model_module": "@jupyter-widgets/controls",
          "model_name": "FloatProgressModel",
          "model_module_version": "1.5.0",
          "state": {
            "_dom_classes": [],
            "_model_module": "@jupyter-widgets/controls",
            "_model_module_version": "1.5.0",
            "_model_name": "FloatProgressModel",
            "_view_count": null,
            "_view_module": "@jupyter-widgets/controls",
            "_view_module_version": "1.5.0",
            "_view_name": "ProgressView",
            "bar_style": "success",
            "description": "",
            "description_tooltip": null,
            "layout": "IPY_MODEL_ae4a58d2bf044b9f8c8671635e54a317",
            "max": 378,
            "min": 0,
            "orientation": "horizontal",
            "style": "IPY_MODEL_e3601b3ee5614c0285fe3e54245e9cec",
            "value": 378
          }
        },
        "23cfa503f5314d14a9a24dedb987eb97": {
          "model_module": "@jupyter-widgets/controls",
          "model_name": "HTMLModel",
          "model_module_version": "1.5.0",
          "state": {
            "_dom_classes": [],
            "_model_module": "@jupyter-widgets/controls",
            "_model_module_version": "1.5.0",
            "_model_name": "HTMLModel",
            "_view_count": null,
            "_view_module": "@jupyter-widgets/controls",
            "_view_module_version": "1.5.0",
            "_view_name": "HTMLView",
            "description": "",
            "description_tooltip": null,
            "layout": "IPY_MODEL_1d4fa50cc8e9452aa31968074ecbe163",
            "placeholder": "​",
            "style": "IPY_MODEL_72943ecdbc60462da9f183cd7933f742",
            "value": " 378/378 [02:07&lt;00:00,  2.93it/s]"
          }
        },
        "b662cd911acd461bb38a9b641a18ab85": {
          "model_module": "@jupyter-widgets/base",
          "model_name": "LayoutModel",
          "model_module_version": "1.2.0",
          "state": {
            "_model_module": "@jupyter-widgets/base",
            "_model_module_version": "1.2.0",
            "_model_name": "LayoutModel",
            "_view_count": null,
            "_view_module": "@jupyter-widgets/base",
            "_view_module_version": "1.2.0",
            "_view_name": "LayoutView",
            "align_content": null,
            "align_items": null,
            "align_self": null,
            "border": null,
            "bottom": null,
            "display": null,
            "flex": null,
            "flex_flow": null,
            "grid_area": null,
            "grid_auto_columns": null,
            "grid_auto_flow": null,
            "grid_auto_rows": null,
            "grid_column": null,
            "grid_gap": null,
            "grid_row": null,
            "grid_template_areas": null,
            "grid_template_columns": null,
            "grid_template_rows": null,
            "height": null,
            "justify_content": null,
            "justify_items": null,
            "left": null,
            "margin": null,
            "max_height": null,
            "max_width": null,
            "min_height": null,
            "min_width": null,
            "object_fit": null,
            "object_position": null,
            "order": null,
            "overflow": null,
            "overflow_x": null,
            "overflow_y": null,
            "padding": null,
            "right": null,
            "top": null,
            "visibility": null,
            "width": null
          }
        },
        "10a7ab1bf532436d91aa64bda83fa3af": {
          "model_module": "@jupyter-widgets/base",
          "model_name": "LayoutModel",
          "model_module_version": "1.2.0",
          "state": {
            "_model_module": "@jupyter-widgets/base",
            "_model_module_version": "1.2.0",
            "_model_name": "LayoutModel",
            "_view_count": null,
            "_view_module": "@jupyter-widgets/base",
            "_view_module_version": "1.2.0",
            "_view_name": "LayoutView",
            "align_content": null,
            "align_items": null,
            "align_self": null,
            "border": null,
            "bottom": null,
            "display": null,
            "flex": null,
            "flex_flow": null,
            "grid_area": null,
            "grid_auto_columns": null,
            "grid_auto_flow": null,
            "grid_auto_rows": null,
            "grid_column": null,
            "grid_gap": null,
            "grid_row": null,
            "grid_template_areas": null,
            "grid_template_columns": null,
            "grid_template_rows": null,
            "height": null,
            "justify_content": null,
            "justify_items": null,
            "left": null,
            "margin": null,
            "max_height": null,
            "max_width": null,
            "min_height": null,
            "min_width": null,
            "object_fit": null,
            "object_position": null,
            "order": null,
            "overflow": null,
            "overflow_x": null,
            "overflow_y": null,
            "padding": null,
            "right": null,
            "top": null,
            "visibility": null,
            "width": null
          }
        },
        "6e9a44c73e554b5083986ef631cca85c": {
          "model_module": "@jupyter-widgets/controls",
          "model_name": "DescriptionStyleModel",
          "model_module_version": "1.5.0",
          "state": {
            "_model_module": "@jupyter-widgets/controls",
            "_model_module_version": "1.5.0",
            "_model_name": "DescriptionStyleModel",
            "_view_count": null,
            "_view_module": "@jupyter-widgets/base",
            "_view_module_version": "1.2.0",
            "_view_name": "StyleView",
            "description_width": ""
          }
        },
        "ae4a58d2bf044b9f8c8671635e54a317": {
          "model_module": "@jupyter-widgets/base",
          "model_name": "LayoutModel",
          "model_module_version": "1.2.0",
          "state": {
            "_model_module": "@jupyter-widgets/base",
            "_model_module_version": "1.2.0",
            "_model_name": "LayoutModel",
            "_view_count": null,
            "_view_module": "@jupyter-widgets/base",
            "_view_module_version": "1.2.0",
            "_view_name": "LayoutView",
            "align_content": null,
            "align_items": null,
            "align_self": null,
            "border": null,
            "bottom": null,
            "display": null,
            "flex": null,
            "flex_flow": null,
            "grid_area": null,
            "grid_auto_columns": null,
            "grid_auto_flow": null,
            "grid_auto_rows": null,
            "grid_column": null,
            "grid_gap": null,
            "grid_row": null,
            "grid_template_areas": null,
            "grid_template_columns": null,
            "grid_template_rows": null,
            "height": null,
            "justify_content": null,
            "justify_items": null,
            "left": null,
            "margin": null,
            "max_height": null,
            "max_width": null,
            "min_height": null,
            "min_width": null,
            "object_fit": null,
            "object_position": null,
            "order": null,
            "overflow": null,
            "overflow_x": null,
            "overflow_y": null,
            "padding": null,
            "right": null,
            "top": null,
            "visibility": null,
            "width": null
          }
        },
        "e3601b3ee5614c0285fe3e54245e9cec": {
          "model_module": "@jupyter-widgets/controls",
          "model_name": "ProgressStyleModel",
          "model_module_version": "1.5.0",
          "state": {
            "_model_module": "@jupyter-widgets/controls",
            "_model_module_version": "1.5.0",
            "_model_name": "ProgressStyleModel",
            "_view_count": null,
            "_view_module": "@jupyter-widgets/base",
            "_view_module_version": "1.2.0",
            "_view_name": "StyleView",
            "bar_color": null,
            "description_width": ""
          }
        },
        "1d4fa50cc8e9452aa31968074ecbe163": {
          "model_module": "@jupyter-widgets/base",
          "model_name": "LayoutModel",
          "model_module_version": "1.2.0",
          "state": {
            "_model_module": "@jupyter-widgets/base",
            "_model_module_version": "1.2.0",
            "_model_name": "LayoutModel",
            "_view_count": null,
            "_view_module": "@jupyter-widgets/base",
            "_view_module_version": "1.2.0",
            "_view_name": "LayoutView",
            "align_content": null,
            "align_items": null,
            "align_self": null,
            "border": null,
            "bottom": null,
            "display": null,
            "flex": null,
            "flex_flow": null,
            "grid_area": null,
            "grid_auto_columns": null,
            "grid_auto_flow": null,
            "grid_auto_rows": null,
            "grid_column": null,
            "grid_gap": null,
            "grid_row": null,
            "grid_template_areas": null,
            "grid_template_columns": null,
            "grid_template_rows": null,
            "height": null,
            "justify_content": null,
            "justify_items": null,
            "left": null,
            "margin": null,
            "max_height": null,
            "max_width": null,
            "min_height": null,
            "min_width": null,
            "object_fit": null,
            "object_position": null,
            "order": null,
            "overflow": null,
            "overflow_x": null,
            "overflow_y": null,
            "padding": null,
            "right": null,
            "top": null,
            "visibility": null,
            "width": null
          }
        },
        "72943ecdbc60462da9f183cd7933f742": {
          "model_module": "@jupyter-widgets/controls",
          "model_name": "DescriptionStyleModel",
          "model_module_version": "1.5.0",
          "state": {
            "_model_module": "@jupyter-widgets/controls",
            "_model_module_version": "1.5.0",
            "_model_name": "DescriptionStyleModel",
            "_view_count": null,
            "_view_module": "@jupyter-widgets/base",
            "_view_module_version": "1.2.0",
            "_view_name": "StyleView",
            "description_width": ""
          }
        }
      }
    }
  },
  "cells": [
    {
      "cell_type": "markdown",
      "source": [
        "#Задание 1:\n",
        "Сгенерировать последовательности, которые бы состояли из цифр (от 0 до 9)\n",
        "и задавались следующим образом:\n",
        "x - последовательность цифр\n",
        "y1 = x1, y(i) = x(i) + x(1). Если y(i) >= 10, то y(i) = y(i) - 10\n",
        "\n",
        "**Задача**:\n",
        "научить модель предсказывать y(i) по x(i)\n",
        "пробовать RNN, LSTM, GRU"
      ],
      "metadata": {
        "id": "_Q0sZlbnBlkm"
      }
    },
    {
      "cell_type": "code",
      "execution_count": null,
      "metadata": {
        "id": "G_UMz_CC2p3W"
      },
      "outputs": [],
      "source": [
        "import torch\n",
        "from torch import nn\n",
        "import random\n",
        "import tqdm\n",
        "import time"
      ]
    },
    {
      "cell_type": "code",
      "source": [
        "tensor_10 = torch.randint(10, (1000,10))\n",
        "tensor_10[0:3]"
      ],
      "metadata": {
        "colab": {
          "base_uri": "https://localhost:8080/"
        },
        "id": "4Qp5LLpxDl4Z",
        "outputId": "f137ddd8-dabf-4a85-f1ba-51fbba25e709"
      },
      "execution_count": null,
      "outputs": [
        {
          "output_type": "execute_result",
          "data": {
            "text/plain": [
              "tensor([[7, 7, 9, 4, 0, 2, 9, 8, 0, 4],\n",
              "        [5, 8, 3, 7, 0, 8, 4, 3, 5, 7],\n",
              "        [0, 9, 7, 3, 6, 2, 0, 6, 2, 8]])"
            ]
          },
          "metadata": {},
          "execution_count": 3
        }
      ]
    },
    {
      "cell_type": "code",
      "source": [
        "tensor_40 = torch.randint(10, (1000,40))\n",
        "tensor_40[0:3]"
      ],
      "metadata": {
        "colab": {
          "base_uri": "https://localhost:8080/"
        },
        "id": "bJocyygyINZg",
        "outputId": "d8aa5697-c30d-4097-908b-118fc51d3594"
      },
      "execution_count": null,
      "outputs": [
        {
          "output_type": "execute_result",
          "data": {
            "text/plain": [
              "tensor([[4, 1, 0, 0, 8, 1, 2, 3, 0, 0, 8, 5, 8, 4, 3, 3, 9, 8, 9, 8, 6, 9, 9, 2,\n",
              "         5, 1, 7, 5, 7, 8, 4, 1, 6, 0, 5, 9, 9, 8, 1, 6],\n",
              "        [8, 6, 9, 7, 1, 7, 7, 6, 9, 0, 2, 8, 4, 2, 6, 5, 9, 1, 4, 1, 4, 2, 1, 6,\n",
              "         0, 3, 6, 9, 3, 4, 6, 1, 5, 2, 7, 6, 8, 3, 8, 2],\n",
              "        [8, 6, 9, 1, 5, 0, 3, 1, 0, 9, 0, 4, 8, 2, 2, 5, 8, 8, 7, 5, 0, 0, 8, 9,\n",
              "         7, 0, 8, 3, 1, 0, 9, 0, 0, 9, 2, 5, 1, 0, 0, 7]])"
            ]
          },
          "metadata": {},
          "execution_count": 4
        }
      ]
    },
    {
      "cell_type": "code",
      "source": [
        "tensor_80 = torch.randint(10, (1000,80))\n",
        "tensor_80[0:3]"
      ],
      "metadata": {
        "colab": {
          "base_uri": "https://localhost:8080/"
        },
        "id": "zxuvGxeXIk4Y",
        "outputId": "fc7e9482-ecb7-49da-8397-6b95f4d45c5c"
      },
      "execution_count": null,
      "outputs": [
        {
          "output_type": "execute_result",
          "data": {
            "text/plain": [
              "tensor([[0, 4, 5, 6, 2, 8, 4, 3, 1, 0, 8, 8, 0, 3, 3, 2, 4, 7, 0, 7, 2, 0, 9, 5,\n",
              "         1, 2, 0, 0, 3, 9, 6, 2, 6, 9, 8, 5, 1, 8, 2, 4, 7, 5, 1, 0, 6, 2, 3, 2,\n",
              "         3, 4, 9, 1, 5, 2, 0, 7, 6, 8, 3, 7, 3, 4, 1, 4, 5, 0, 4, 7, 1, 0, 4, 5,\n",
              "         4, 7, 9, 0, 5, 8, 2, 0],\n",
              "        [3, 3, 4, 7, 7, 7, 2, 0, 4, 4, 1, 1, 6, 6, 9, 5, 6, 3, 2, 7, 7, 8, 7, 0,\n",
              "         9, 6, 2, 9, 1, 2, 3, 9, 0, 5, 4, 8, 3, 4, 7, 7, 1, 7, 1, 5, 1, 2, 6, 5,\n",
              "         3, 2, 0, 3, 6, 6, 0, 2, 6, 6, 9, 1, 8, 5, 5, 3, 9, 5, 5, 7, 3, 2, 9, 4,\n",
              "         1, 5, 7, 4, 3, 3, 6, 4],\n",
              "        [1, 0, 3, 0, 2, 3, 9, 2, 2, 5, 0, 5, 5, 4, 2, 0, 1, 2, 5, 1, 0, 2, 4, 1,\n",
              "         9, 6, 2, 4, 0, 1, 6, 4, 3, 5, 1, 6, 7, 6, 9, 6, 5, 4, 9, 3, 2, 1, 5, 0,\n",
              "         1, 2, 0, 3, 1, 9, 7, 3, 5, 1, 1, 4, 5, 9, 6, 5, 3, 6, 0, 1, 2, 4, 1, 0,\n",
              "         4, 3, 9, 5, 6, 1, 4, 6]])"
            ]
          },
          "metadata": {},
          "execution_count": 5
        }
      ]
    },
    {
      "cell_type": "code",
      "source": [
        "def transform(tensor):\n",
        "    y = torch.zeros_like(tensor)\n",
        "    for j in range(len(y)):\n",
        "        for i in range(len(y[1,:])):\n",
        "            y[j,0] = tensor[j,0]\n",
        "            #y[j,i] = (y[j,i-1]+tensor[j,i]) % 10\n",
        "            y[j,i] = (tensor[j,i]+y[j,0]) % 10\n",
        "    return y"
      ],
      "metadata": {
        "id": "w3VfWTStEMje"
      },
      "execution_count": null,
      "outputs": []
    },
    {
      "cell_type": "code",
      "source": [
        "transform_tensor_10 = transform(tensor_10)\n",
        "tensor_10[:3], transform_tensor_10[:3]"
      ],
      "metadata": {
        "colab": {
          "base_uri": "https://localhost:8080/"
        },
        "id": "jfvfdmpwF0r1",
        "outputId": "4b808b9a-f1e9-4d2f-900d-6aee0ad2e9fb"
      },
      "execution_count": null,
      "outputs": [
        {
          "output_type": "execute_result",
          "data": {
            "text/plain": [
              "(tensor([[7, 7, 9, 4, 0, 2, 9, 8, 0, 4],\n",
              "         [5, 8, 3, 7, 0, 8, 4, 3, 5, 7],\n",
              "         [0, 9, 7, 3, 6, 2, 0, 6, 2, 8]]),\n",
              " tensor([[7, 4, 6, 1, 7, 9, 6, 5, 7, 1],\n",
              "         [5, 3, 8, 2, 5, 3, 9, 8, 0, 2],\n",
              "         [0, 9, 7, 3, 6, 2, 0, 6, 2, 8]]))"
            ]
          },
          "metadata": {},
          "execution_count": 7
        }
      ]
    },
    {
      "cell_type": "code",
      "source": [
        "transform_tensor_40 = transform(tensor_40)\n",
        "tensor_40[:3], transform_tensor_40[:3]"
      ],
      "metadata": {
        "colab": {
          "base_uri": "https://localhost:8080/"
        },
        "id": "PUyqTo6TP5b3",
        "outputId": "a55b72a3-fe3c-4dce-9860-4fd885bfe35d"
      },
      "execution_count": null,
      "outputs": [
        {
          "output_type": "execute_result",
          "data": {
            "text/plain": [
              "(tensor([[4, 1, 0, 0, 8, 1, 2, 3, 0, 0, 8, 5, 8, 4, 3, 3, 9, 8, 9, 8, 6, 9, 9, 2,\n",
              "          5, 1, 7, 5, 7, 8, 4, 1, 6, 0, 5, 9, 9, 8, 1, 6],\n",
              "         [8, 6, 9, 7, 1, 7, 7, 6, 9, 0, 2, 8, 4, 2, 6, 5, 9, 1, 4, 1, 4, 2, 1, 6,\n",
              "          0, 3, 6, 9, 3, 4, 6, 1, 5, 2, 7, 6, 8, 3, 8, 2],\n",
              "         [8, 6, 9, 1, 5, 0, 3, 1, 0, 9, 0, 4, 8, 2, 2, 5, 8, 8, 7, 5, 0, 0, 8, 9,\n",
              "          7, 0, 8, 3, 1, 0, 9, 0, 0, 9, 2, 5, 1, 0, 0, 7]]),\n",
              " tensor([[4, 5, 4, 4, 2, 5, 6, 7, 4, 4, 2, 9, 2, 8, 7, 7, 3, 2, 3, 2, 0, 3, 3, 6,\n",
              "          9, 5, 1, 9, 1, 2, 8, 5, 0, 4, 9, 3, 3, 2, 5, 0],\n",
              "         [8, 4, 7, 5, 9, 5, 5, 4, 7, 8, 0, 6, 2, 0, 4, 3, 7, 9, 2, 9, 2, 0, 9, 4,\n",
              "          8, 1, 4, 7, 1, 2, 4, 9, 3, 0, 5, 4, 6, 1, 6, 0],\n",
              "         [8, 4, 7, 9, 3, 8, 1, 9, 8, 7, 8, 2, 6, 0, 0, 3, 6, 6, 5, 3, 8, 8, 6, 7,\n",
              "          5, 8, 6, 1, 9, 8, 7, 8, 8, 7, 0, 3, 9, 8, 8, 5]]))"
            ]
          },
          "metadata": {},
          "execution_count": 8
        }
      ]
    },
    {
      "cell_type": "code",
      "source": [
        "transform_tensor_80 = transform(tensor_80)\n",
        "tensor_80[:3], transform_tensor_80[:3]"
      ],
      "metadata": {
        "colab": {
          "base_uri": "https://localhost:8080/"
        },
        "id": "bQWdIVQ8V-Ff",
        "outputId": "efee46e0-166b-49bd-df47-03a57c375690"
      },
      "execution_count": null,
      "outputs": [
        {
          "output_type": "execute_result",
          "data": {
            "text/plain": [
              "(tensor([[0, 4, 5, 6, 2, 8, 4, 3, 1, 0, 8, 8, 0, 3, 3, 2, 4, 7, 0, 7, 2, 0, 9, 5,\n",
              "          1, 2, 0, 0, 3, 9, 6, 2, 6, 9, 8, 5, 1, 8, 2, 4, 7, 5, 1, 0, 6, 2, 3, 2,\n",
              "          3, 4, 9, 1, 5, 2, 0, 7, 6, 8, 3, 7, 3, 4, 1, 4, 5, 0, 4, 7, 1, 0, 4, 5,\n",
              "          4, 7, 9, 0, 5, 8, 2, 0],\n",
              "         [3, 3, 4, 7, 7, 7, 2, 0, 4, 4, 1, 1, 6, 6, 9, 5, 6, 3, 2, 7, 7, 8, 7, 0,\n",
              "          9, 6, 2, 9, 1, 2, 3, 9, 0, 5, 4, 8, 3, 4, 7, 7, 1, 7, 1, 5, 1, 2, 6, 5,\n",
              "          3, 2, 0, 3, 6, 6, 0, 2, 6, 6, 9, 1, 8, 5, 5, 3, 9, 5, 5, 7, 3, 2, 9, 4,\n",
              "          1, 5, 7, 4, 3, 3, 6, 4],\n",
              "         [1, 0, 3, 0, 2, 3, 9, 2, 2, 5, 0, 5, 5, 4, 2, 0, 1, 2, 5, 1, 0, 2, 4, 1,\n",
              "          9, 6, 2, 4, 0, 1, 6, 4, 3, 5, 1, 6, 7, 6, 9, 6, 5, 4, 9, 3, 2, 1, 5, 0,\n",
              "          1, 2, 0, 3, 1, 9, 7, 3, 5, 1, 1, 4, 5, 9, 6, 5, 3, 6, 0, 1, 2, 4, 1, 0,\n",
              "          4, 3, 9, 5, 6, 1, 4, 6]]),\n",
              " tensor([[0, 4, 5, 6, 2, 8, 4, 3, 1, 0, 8, 8, 0, 3, 3, 2, 4, 7, 0, 7, 2, 0, 9, 5,\n",
              "          1, 2, 0, 0, 3, 9, 6, 2, 6, 9, 8, 5, 1, 8, 2, 4, 7, 5, 1, 0, 6, 2, 3, 2,\n",
              "          3, 4, 9, 1, 5, 2, 0, 7, 6, 8, 3, 7, 3, 4, 1, 4, 5, 0, 4, 7, 1, 0, 4, 5,\n",
              "          4, 7, 9, 0, 5, 8, 2, 0],\n",
              "         [3, 6, 7, 0, 0, 0, 5, 3, 7, 7, 4, 4, 9, 9, 2, 8, 9, 6, 5, 0, 0, 1, 0, 3,\n",
              "          2, 9, 5, 2, 4, 5, 6, 2, 3, 8, 7, 1, 6, 7, 0, 0, 4, 0, 4, 8, 4, 5, 9, 8,\n",
              "          6, 5, 3, 6, 9, 9, 3, 5, 9, 9, 2, 4, 1, 8, 8, 6, 2, 8, 8, 0, 6, 5, 2, 7,\n",
              "          4, 8, 0, 7, 6, 6, 9, 7],\n",
              "         [1, 1, 4, 1, 3, 4, 0, 3, 3, 6, 1, 6, 6, 5, 3, 1, 2, 3, 6, 2, 1, 3, 5, 2,\n",
              "          0, 7, 3, 5, 1, 2, 7, 5, 4, 6, 2, 7, 8, 7, 0, 7, 6, 5, 0, 4, 3, 2, 6, 1,\n",
              "          2, 3, 1, 4, 2, 0, 8, 4, 6, 2, 2, 5, 6, 0, 7, 6, 4, 7, 1, 2, 3, 5, 2, 1,\n",
              "          5, 4, 0, 6, 7, 2, 5, 7]]))"
            ]
          },
          "metadata": {},
          "execution_count": 9
        }
      ]
    },
    {
      "cell_type": "code",
      "source": [
        "BATCH_SIZE = 128\n",
        "dataset_10 = torch.utils.data.TensorDataset(tensor_10, transform_tensor_10)\n",
        "data_10 = torch.utils.data.DataLoader(dataset_10, BATCH_SIZE, shuffle=True)\n",
        "\n",
        "dataset_40 = torch.utils.data.TensorDataset(tensor_40, transform_tensor_40)\n",
        "data_40 = torch.utils.data.DataLoader(dataset_40, BATCH_SIZE, shuffle=True)\n",
        "\n",
        "dataset_80 = torch.utils.data.TensorDataset(tensor_80, transform_tensor_80)\n",
        "data_80 = torch.utils.data.DataLoader(dataset_80, BATCH_SIZE, shuffle=True)"
      ],
      "metadata": {
        "id": "9D2CD0dLniXG"
      },
      "execution_count": null,
      "outputs": []
    },
    {
      "cell_type": "code",
      "source": [
        "class NeuralNetwork(nn.Module):\n",
        "    def __init__(self, rnnClass, dictionary_size, embedding_size, num_hiddens, num_classes):\n",
        "        super().__init__()\n",
        "        \n",
        "        self.embedding = nn.Embedding(dictionary_size, embedding_size)\n",
        "        self.hidden = rnnClass(embedding_size, num_hiddens, batch_first=True)\n",
        "        self.output = nn.Linear(num_hiddens, num_classes)\n",
        "        \n",
        "    def forward(self, X):\n",
        "        out = self.embedding(X)\n",
        "        #_, state = self.hidden(out)\n",
        "        #predictions = self.output(state[0])\n",
        "        out, state = self.hidden(out)\n",
        "        predictions = self.output(out)\n",
        "        if isinstance(self.hidden, nn.LSTM):\n",
        "            predictions = predictions.squeeze(0)\n",
        "        return predictions"
      ],
      "metadata": {
        "id": "q7oxd68pWFPP"
      },
      "execution_count": null,
      "outputs": []
    },
    {
      "cell_type": "code",
      "source": [
        "def train_model(model, loader, n_epochs):\n",
        "    train_losses = []\n",
        "    #train_accuracy = []\n",
        "    criterion = torch.nn.CrossEntropyLoss()\n",
        "    optimizer = torch.optim.SGD(model.parameters(), lr=0.05)\n",
        "\n",
        "    for epoch in range(1, n_epochs + 1):\n",
        "        start = time.time()\n",
        "        train_loss, train_acc, n = 0.0, 0.0, 0\n",
        "        \n",
        "        model.train()\n",
        "        for X, y in loader:\n",
        "            optimizer.zero_grad()\n",
        "            y_pred = model.forward(X)\n",
        "            loss = criterion(y_pred, y)#.float())\n",
        "            train_loss += loss.item()\n",
        "            train_acc += (y_pred.argmax(dim=1) == y).sum().item()\n",
        "            n += y.shape[0]*y.shape[1]\n",
        "            loss.backward()\n",
        "            optimizer.step()\n",
        "\n",
        "        train_loss /= len(loader)\n",
        "        train_losses.append(train_loss)\n",
        "        sec = time.time() - start\n",
        "        stat = f'Epoch: {epoch}, time: {sec:.1f}s, loss: {train_loss:.3f}, acc:{train_acc/n:.3f} '\n",
        "        if (epoch) % 200 == 0:\n",
        "            print(stat)\n",
        "\n",
        "        \n",
        "    return model, train_losses"
      ],
      "metadata": {
        "id": "bkGj1Klk7OKm"
      },
      "execution_count": null,
      "outputs": []
    },
    {
      "cell_type": "code",
      "source": [
        "embedding_size = 64\n",
        "num_hiddens = 128\n",
        "n_epochs = 5000"
      ],
      "metadata": {
        "id": "qC7HhVMecJmv"
      },
      "execution_count": null,
      "outputs": []
    },
    {
      "cell_type": "code",
      "source": [
        "model_RNN_10 = NeuralNetwork(nn.RNN, 10 , embedding_size, num_hiddens, 10)\n",
        "model, train_losses = train_model(model_RNN_10, data_10, n_epochs)"
      ],
      "metadata": {
        "colab": {
          "base_uri": "https://localhost:8080/"
        },
        "id": "JD3Xh-Zx8eMS",
        "outputId": "eb816508-c445-45db-db3d-02aba8f3605a"
      },
      "execution_count": null,
      "outputs": [
        {
          "output_type": "stream",
          "name": "stdout",
          "text": [
            "Epoch: 200, time: 0.1s, loss: 2.085, acc:0.221 \n",
            "Epoch: 400, time: 0.1s, loss: 1.962, acc:0.303 \n",
            "Epoch: 600, time: 0.1s, loss: 1.762, acc:0.389 \n",
            "Epoch: 800, time: 0.1s, loss: 1.542, acc:0.471 \n",
            "Epoch: 1000, time: 0.1s, loss: 1.325, acc:0.561 \n",
            "Epoch: 1200, time: 0.1s, loss: 1.120, acc:0.640 \n",
            "Epoch: 1400, time: 0.1s, loss: 0.937, acc:0.709 \n",
            "Epoch: 1600, time: 0.1s, loss: 0.785, acc:0.768 \n",
            "Epoch: 1800, time: 0.1s, loss: 0.638, acc:0.821 \n",
            "Epoch: 2000, time: 0.1s, loss: 0.532, acc:0.859 \n",
            "Epoch: 2200, time: 0.1s, loss: 0.512, acc:0.855 \n",
            "Epoch: 2400, time: 0.1s, loss: 0.414, acc:0.889 \n",
            "Epoch: 2600, time: 0.1s, loss: 0.343, acc:0.911 \n",
            "Epoch: 2800, time: 0.1s, loss: 0.698, acc:0.766 \n",
            "Epoch: 3000, time: 0.1s, loss: 0.276, acc:0.923 \n",
            "Epoch: 3200, time: 0.1s, loss: 0.259, acc:0.927 \n",
            "Epoch: 3400, time: 0.1s, loss: 0.233, acc:0.932 \n",
            "Epoch: 3600, time: 0.1s, loss: 0.220, acc:0.932 \n",
            "Epoch: 3800, time: 0.1s, loss: 0.205, acc:0.936 \n",
            "Epoch: 4000, time: 0.1s, loss: 0.195, acc:0.938 \n",
            "Epoch: 4200, time: 0.1s, loss: 0.187, acc:0.938 \n",
            "Epoch: 4400, time: 0.1s, loss: 0.178, acc:0.941 \n",
            "Epoch: 4600, time: 0.1s, loss: 0.172, acc:0.941 \n",
            "Epoch: 4800, time: 0.1s, loss: 0.167, acc:0.941 \n",
            "Epoch: 5000, time: 0.1s, loss: 0.161, acc:0.942 \n"
          ]
        }
      ]
    },
    {
      "cell_type": "code",
      "source": [
        "model_RNN_40 = NeuralNetwork(nn.RNN, 40, embedding_size, num_hiddens, 40)\n",
        "model, train_losses = train_model(model_RNN_40, data_40, n_epochs)"
      ],
      "metadata": {
        "colab": {
          "base_uri": "https://localhost:8080/"
        },
        "id": "K3lnXWEwpdRV",
        "outputId": "c5cdada2-8f85-443b-d239-c761e2e08cca"
      },
      "execution_count": null,
      "outputs": [
        {
          "output_type": "stream",
          "name": "stdout",
          "text": [
            "Epoch: 200, time: 0.2s, loss: 2.323, acc:0.126 \n",
            "Epoch: 400, time: 0.2s, loss: 2.280, acc:0.135 \n",
            "Epoch: 600, time: 0.2s, loss: 2.260, acc:0.146 \n",
            "Epoch: 800, time: 0.2s, loss: 2.245, acc:0.156 \n",
            "Epoch: 1000, time: 0.2s, loss: 2.231, acc:0.167 \n",
            "Epoch: 1200, time: 0.3s, loss: 2.218, acc:0.175 \n",
            "Epoch: 1400, time: 0.3s, loss: 2.206, acc:0.183 \n",
            "Epoch: 1600, time: 0.3s, loss: 2.193, acc:0.191 \n",
            "Epoch: 1800, time: 0.2s, loss: 2.181, acc:0.197 \n",
            "Epoch: 2000, time: 0.3s, loss: 2.168, acc:0.204 \n",
            "Epoch: 2200, time: 0.3s, loss: 2.156, acc:0.211 \n",
            "Epoch: 2400, time: 0.2s, loss: 2.142, acc:0.218 \n",
            "Epoch: 2600, time: 0.2s, loss: 2.128, acc:0.225 \n",
            "Epoch: 2800, time: 0.3s, loss: 2.117, acc:0.231 \n",
            "Epoch: 3000, time: 0.3s, loss: 2.103, acc:0.235 \n",
            "Epoch: 3200, time: 0.2s, loss: 2.089, acc:0.242 \n",
            "Epoch: 3400, time: 0.2s, loss: 2.075, acc:0.247 \n",
            "Epoch: 3600, time: 0.3s, loss: 2.061, acc:0.254 \n",
            "Epoch: 3800, time: 0.3s, loss: 2.047, acc:0.261 \n",
            "Epoch: 4000, time: 0.2s, loss: 2.035, acc:0.268 \n",
            "Epoch: 4200, time: 0.2s, loss: 2.022, acc:0.275 \n",
            "Epoch: 4400, time: 0.2s, loss: 2.006, acc:0.282 \n",
            "Epoch: 4600, time: 0.3s, loss: 1.991, acc:0.289 \n",
            "Epoch: 4800, time: 0.2s, loss: 1.976, acc:0.294 \n",
            "Epoch: 5000, time: 0.2s, loss: 1.963, acc:0.299 \n"
          ]
        }
      ]
    },
    {
      "cell_type": "code",
      "source": [
        "model_RNN_80 = NeuralNetwork(nn.RNN, 80, embedding_size, num_hiddens, 80)\n",
        "model, train_losses = train_model(model_RNN_80, data_80, n_epochs)"
      ],
      "metadata": {
        "colab": {
          "base_uri": "https://localhost:8080/"
        },
        "id": "EMWI0K4_CmxH",
        "outputId": "00336d84-efb1-46d5-a878-41ff70cf9c85"
      },
      "execution_count": null,
      "outputs": [
        {
          "output_type": "stream",
          "name": "stdout",
          "text": [
            "Epoch: 200, time: 0.6s, loss: 2.339, acc:0.114 \n",
            "Epoch: 400, time: 0.6s, loss: 2.300, acc:0.121 \n",
            "Epoch: 600, time: 0.5s, loss: 2.291, acc:0.129 \n",
            "Epoch: 800, time: 0.6s, loss: 2.284, acc:0.132 \n",
            "Epoch: 1000, time: 0.5s, loss: 2.279, acc:0.136 \n",
            "Epoch: 1200, time: 0.6s, loss: 2.273, acc:0.141 \n",
            "Epoch: 1400, time: 0.6s, loss: 2.268, acc:0.145 \n",
            "Epoch: 1600, time: 0.6s, loss: 2.263, acc:0.149 \n",
            "Epoch: 1800, time: 0.6s, loss: 2.257, acc:0.152 \n",
            "Epoch: 2000, time: 0.6s, loss: 2.252, acc:0.155 \n",
            "Epoch: 2200, time: 0.6s, loss: 2.249, acc:0.158 \n",
            "Epoch: 2400, time: 0.6s, loss: 2.243, acc:0.161 \n",
            "Epoch: 2600, time: 0.6s, loss: 2.239, acc:0.164 \n",
            "Epoch: 2800, time: 0.5s, loss: 2.235, acc:0.167 \n",
            "Epoch: 3000, time: 0.5s, loss: 2.231, acc:0.170 \n",
            "Epoch: 3200, time: 0.6s, loss: 2.226, acc:0.173 \n",
            "Epoch: 3400, time: 0.5s, loss: 2.223, acc:0.176 \n",
            "Epoch: 3600, time: 0.6s, loss: 2.218, acc:0.179 \n",
            "Epoch: 3800, time: 0.6s, loss: 2.215, acc:0.181 \n",
            "Epoch: 4000, time: 0.6s, loss: 2.210, acc:0.185 \n",
            "Epoch: 4200, time: 0.6s, loss: 2.207, acc:0.186 \n",
            "Epoch: 4400, time: 0.6s, loss: 2.203, acc:0.189 \n",
            "Epoch: 4600, time: 0.6s, loss: 2.198, acc:0.191 \n",
            "Epoch: 4800, time: 0.6s, loss: 2.194, acc:0.193 \n",
            "Epoch: 5000, time: 0.5s, loss: 2.190, acc:0.196 \n"
          ]
        }
      ]
    },
    {
      "cell_type": "code",
      "source": [],
      "metadata": {
        "id": "jexAN38nCnSH"
      },
      "execution_count": null,
      "outputs": []
    },
    {
      "cell_type": "code",
      "source": [
        "model_GRU_10 = NeuralNetwork(nn.GRU, 10, embedding_size, num_hiddens, 10)\n",
        "model, train_losses = train_model(model_GRU_10, data_10, n_epochs)"
      ],
      "metadata": {
        "id": "v8nauSEkCnmw",
        "colab": {
          "base_uri": "https://localhost:8080/"
        },
        "outputId": "59e55b15-8201-4929-a7f8-9ee77c6e4490"
      },
      "execution_count": null,
      "outputs": [
        {
          "output_type": "stream",
          "name": "stdout",
          "text": [
            "Epoch: 200, time: 0.2s, loss: 2.288, acc:0.128 \n",
            "Epoch: 400, time: 0.2s, loss: 2.279, acc:0.136 \n",
            "Epoch: 600, time: 0.2s, loss: 2.263, acc:0.146 \n",
            "Epoch: 800, time: 0.2s, loss: 2.231, acc:0.161 \n",
            "Epoch: 1000, time: 0.2s, loss: 2.171, acc:0.187 \n",
            "Epoch: 1200, time: 0.2s, loss: 2.018, acc:0.260 \n",
            "Epoch: 1400, time: 0.2s, loss: 1.930, acc:0.295 \n",
            "Epoch: 1600, time: 0.2s, loss: 1.850, acc:0.325 \n",
            "Epoch: 1800, time: 0.2s, loss: 1.758, acc:0.369 \n",
            "Epoch: 2000, time: 0.2s, loss: 1.655, acc:0.409 \n",
            "Epoch: 2200, time: 0.2s, loss: 1.542, acc:0.454 \n",
            "Epoch: 2400, time: 0.2s, loss: 1.419, acc:0.507 \n",
            "Epoch: 2600, time: 0.2s, loss: 1.284, acc:0.562 \n",
            "Epoch: 2800, time: 0.2s, loss: 1.143, acc:0.615 \n",
            "Epoch: 3000, time: 0.2s, loss: 0.992, acc:0.683 \n",
            "Epoch: 3200, time: 0.2s, loss: 0.839, acc:0.740 \n",
            "Epoch: 3400, time: 0.2s, loss: 0.698, acc:0.800 \n",
            "Epoch: 3600, time: 0.2s, loss: 0.571, acc:0.846 \n",
            "Epoch: 3800, time: 0.2s, loss: 0.467, acc:0.886 \n",
            "Epoch: 4000, time: 0.2s, loss: 0.383, acc:0.914 \n",
            "Epoch: 4200, time: 0.2s, loss: 0.319, acc:0.928 \n",
            "Epoch: 4400, time: 0.2s, loss: 0.272, acc:0.935 \n",
            "Epoch: 4600, time: 0.2s, loss: 0.237, acc:0.939 \n",
            "Epoch: 4800, time: 0.2s, loss: 0.212, acc:0.942 \n",
            "Epoch: 5000, time: 0.2s, loss: 0.192, acc:0.945 \n"
          ]
        }
      ]
    },
    {
      "cell_type": "code",
      "source": [
        "model_GRU_40 = NeuralNetwork(nn.GRU, 40, embedding_size, num_hiddens, 40)\n",
        "model, train_losses = train_model(model_GRU_40, data_40, n_epochs)"
      ],
      "metadata": {
        "id": "_FHDj3KicSPH",
        "colab": {
          "base_uri": "https://localhost:8080/"
        },
        "outputId": "1be9dd17-922a-4929-88de-bdeaae858a05"
      },
      "execution_count": null,
      "outputs": [
        {
          "output_type": "stream",
          "name": "stdout",
          "text": [
            "Epoch: 200, time: 0.6s, loss: 2.407, acc:0.105 \n",
            "Epoch: 400, time: 0.6s, loss: 2.349, acc:0.112 \n",
            "Epoch: 600, time: 0.6s, loss: 2.318, acc:0.118 \n",
            "Epoch: 800, time: 0.6s, loss: 2.302, acc:0.117 \n",
            "Epoch: 1000, time: 0.6s, loss: 2.294, acc:0.124 \n",
            "Epoch: 1200, time: 0.6s, loss: 2.287, acc:0.128 \n",
            "Epoch: 1400, time: 0.6s, loss: 2.281, acc:0.134 \n",
            "Epoch: 1600, time: 0.6s, loss: 2.276, acc:0.139 \n",
            "Epoch: 1800, time: 0.6s, loss: 2.270, acc:0.143 \n",
            "Epoch: 2000, time: 0.6s, loss: 2.263, acc:0.146 \n",
            "Epoch: 2200, time: 0.6s, loss: 2.256, acc:0.150 \n",
            "Epoch: 2400, time: 0.6s, loss: 2.250, acc:0.155 \n",
            "Epoch: 2600, time: 0.6s, loss: 2.242, acc:0.162 \n",
            "Epoch: 2800, time: 0.6s, loss: 2.233, acc:0.166 \n",
            "Epoch: 3000, time: 0.6s, loss: 2.224, acc:0.172 \n",
            "Epoch: 3200, time: 0.6s, loss: 2.215, acc:0.178 \n",
            "Epoch: 3400, time: 0.6s, loss: 2.206, acc:0.182 \n",
            "Epoch: 3600, time: 0.6s, loss: 2.197, acc:0.188 \n",
            "Epoch: 3800, time: 0.6s, loss: 2.187, acc:0.193 \n",
            "Epoch: 4000, time: 0.6s, loss: 2.178, acc:0.197 \n",
            "Epoch: 4200, time: 0.6s, loss: 2.168, acc:0.203 \n",
            "Epoch: 4400, time: 0.7s, loss: 2.158, acc:0.208 \n",
            "Epoch: 4600, time: 0.6s, loss: 2.149, acc:0.213 \n",
            "Epoch: 4800, time: 0.6s, loss: 2.139, acc:0.218 \n",
            "Epoch: 5000, time: 0.6s, loss: 2.129, acc:0.221 \n"
          ]
        }
      ]
    },
    {
      "cell_type": "code",
      "source": [
        "model_GRU_80 = NeuralNetwork(nn.GRU, 80, embedding_size, num_hiddens, 80)\n",
        "model, train_losses = train_model(model_GRU_80, data_80, n_epochs)"
      ],
      "metadata": {
        "id": "wg184fp8GCoe",
        "colab": {
          "base_uri": "https://localhost:8080/"
        },
        "outputId": "b3905c81-8ffe-4a7e-e5ef-b0cdef8db2e1"
      },
      "execution_count": null,
      "outputs": [
        {
          "output_type": "stream",
          "name": "stdout",
          "text": [
            "Epoch: 200, time: 1.3s, loss: 2.420, acc:0.103 \n",
            "Epoch: 400, time: 1.3s, loss: 2.365, acc:0.105 \n",
            "Epoch: 600, time: 1.3s, loss: 2.331, acc:0.110 \n",
            "Epoch: 800, time: 1.3s, loss: 2.313, acc:0.114 \n",
            "Epoch: 1000, time: 1.3s, loss: 2.305, acc:0.114 \n",
            "Epoch: 1200, time: 1.4s, loss: 2.300, acc:0.119 \n",
            "Epoch: 1400, time: 1.3s, loss: 2.296, acc:0.122 \n",
            "Epoch: 1600, time: 1.3s, loss: 2.294, acc:0.124 \n",
            "Epoch: 1800, time: 1.3s, loss: 2.292, acc:0.127 \n",
            "Epoch: 2000, time: 1.3s, loss: 2.289, acc:0.130 \n",
            "Epoch: 2200, time: 1.3s, loss: 2.287, acc:0.131 \n",
            "Epoch: 2400, time: 1.3s, loss: 2.285, acc:0.132 \n",
            "Epoch: 2600, time: 1.3s, loss: 2.283, acc:0.134 \n",
            "Epoch: 2800, time: 1.3s, loss: 2.281, acc:0.136 \n",
            "Epoch: 3000, time: 1.3s, loss: 2.278, acc:0.137 \n",
            "Epoch: 3200, time: 1.3s, loss: 2.276, acc:0.139 \n",
            "Epoch: 3400, time: 1.3s, loss: 2.274, acc:0.140 \n",
            "Epoch: 3600, time: 1.3s, loss: 2.271, acc:0.142 \n",
            "Epoch: 3800, time: 1.3s, loss: 2.269, acc:0.145 \n",
            "Epoch: 4000, time: 1.3s, loss: 2.266, acc:0.147 \n",
            "Epoch: 4200, time: 1.3s, loss: 2.263, acc:0.149 \n",
            "Epoch: 4400, time: 1.3s, loss: 2.260, acc:0.150 \n",
            "Epoch: 4600, time: 1.3s, loss: 2.258, acc:0.152 \n",
            "Epoch: 4800, time: 1.3s, loss: 2.255, acc:0.155 \n",
            "Epoch: 5000, time: 1.3s, loss: 2.252, acc:0.157 \n"
          ]
        }
      ]
    },
    {
      "cell_type": "code",
      "source": [],
      "metadata": {
        "id": "dyoisxsJGQd-"
      },
      "execution_count": null,
      "outputs": []
    },
    {
      "cell_type": "code",
      "source": [
        "model_LSTM_10 = NeuralNetwork(nn.LSTM, 10, embedding_size, num_hiddens, 10)\n",
        "model, train_losses = train_model(model_LSTM_10, data_10, n_epochs)"
      ],
      "metadata": {
        "id": "PrPvZTyfHelU",
        "colab": {
          "base_uri": "https://localhost:8080/"
        },
        "outputId": "732fc6de-1639-435d-9b8f-99270ef63546"
      },
      "execution_count": null,
      "outputs": [
        {
          "output_type": "stream",
          "name": "stdout",
          "text": [
            "Epoch: 200, time: 0.2s, loss: 2.292, acc:0.124 \n",
            "Epoch: 400, time: 0.2s, loss: 2.288, acc:0.126 \n",
            "Epoch: 600, time: 0.2s, loss: 2.282, acc:0.132 \n",
            "Epoch: 800, time: 0.2s, loss: 2.272, acc:0.143 \n",
            "Epoch: 1000, time: 0.2s, loss: 2.254, acc:0.153 \n",
            "Epoch: 1200, time: 0.2s, loss: 2.221, acc:0.168 \n",
            "Epoch: 1400, time: 0.2s, loss: 2.151, acc:0.198 \n",
            "Epoch: 1600, time: 0.2s, loss: 2.035, acc:0.252 \n",
            "Epoch: 1800, time: 0.2s, loss: 1.918, acc:0.304 \n",
            "Epoch: 2000, time: 0.2s, loss: 1.810, acc:0.347 \n",
            "Epoch: 2200, time: 0.2s, loss: 1.702, acc:0.394 \n",
            "Epoch: 2400, time: 0.2s, loss: 1.576, acc:0.446 \n",
            "Epoch: 2600, time: 0.2s, loss: 1.448, acc:0.497 \n",
            "Epoch: 2800, time: 0.2s, loss: 1.301, acc:0.558 \n",
            "Epoch: 3000, time: 0.2s, loss: 1.170, acc:0.611 \n",
            "Epoch: 3200, time: 0.2s, loss: 1.029, acc:0.673 \n",
            "Epoch: 3400, time: 0.2s, loss: 0.900, acc:0.727 \n",
            "Epoch: 3600, time: 0.2s, loss: 0.774, acc:0.775 \n",
            "Epoch: 3800, time: 0.2s, loss: 0.692, acc:0.803 \n",
            "Epoch: 4000, time: 0.2s, loss: 0.671, acc:0.798 \n",
            "Epoch: 4200, time: 0.2s, loss: 0.509, acc:0.869 \n",
            "Epoch: 4400, time: 0.2s, loss: 0.446, acc:0.888 \n",
            "Epoch: 4600, time: 0.2s, loss: 0.392, acc:0.903 \n",
            "Epoch: 4800, time: 0.2s, loss: 0.347, acc:0.914 \n",
            "Epoch: 5000, time: 0.2s, loss: 0.312, acc:0.922 \n"
          ]
        }
      ]
    },
    {
      "cell_type": "code",
      "source": [
        "model_LSTM_40 = NeuralNetwork(nn.LSTM, 40, embedding_size, num_hiddens, 40)\n",
        "model, train_losses = train_model(model_LSTM_40, data_40, n_epochs)"
      ],
      "metadata": {
        "id": "HfRdvQ5FHevP",
        "colab": {
          "base_uri": "https://localhost:8080/"
        },
        "outputId": "033e96ad-9e81-473b-8ee6-e00b0551dd23"
      },
      "execution_count": null,
      "outputs": [
        {
          "output_type": "stream",
          "name": "stdout",
          "text": [
            "Epoch: 200, time: 0.8s, loss: 2.398, acc:0.104 \n",
            "Epoch: 400, time: 0.8s, loss: 2.337, acc:0.115 \n",
            "Epoch: 600, time: 0.8s, loss: 2.314, acc:0.117 \n",
            "Epoch: 800, time: 0.8s, loss: 2.307, acc:0.121 \n",
            "Epoch: 1000, time: 0.8s, loss: 2.297, acc:0.122 \n",
            "Epoch: 1200, time: 0.8s, loss: 2.292, acc:0.127 \n",
            "Epoch: 1400, time: 0.8s, loss: 2.285, acc:0.132 \n",
            "Epoch: 1600, time: 0.8s, loss: 2.280, acc:0.136 \n",
            "Epoch: 1800, time: 0.8s, loss: 2.273, acc:0.142 \n",
            "Epoch: 2000, time: 0.8s, loss: 2.266, acc:0.147 \n",
            "Epoch: 2200, time: 0.8s, loss: 2.259, acc:0.152 \n",
            "Epoch: 2400, time: 0.8s, loss: 2.248, acc:0.160 \n",
            "Epoch: 2600, time: 0.8s, loss: 2.239, acc:0.164 \n",
            "Epoch: 2800, time: 0.8s, loss: 2.230, acc:0.168 \n",
            "Epoch: 3000, time: 0.8s, loss: 2.219, acc:0.173 \n",
            "Epoch: 3200, time: 0.8s, loss: 2.206, acc:0.182 \n",
            "Epoch: 3400, time: 0.8s, loss: 2.195, acc:0.188 \n",
            "Epoch: 3600, time: 0.8s, loss: 2.185, acc:0.195 \n",
            "Epoch: 3800, time: 0.8s, loss: 2.172, acc:0.200 \n",
            "Epoch: 4000, time: 0.8s, loss: 2.161, acc:0.205 \n",
            "Epoch: 4200, time: 0.8s, loss: 2.149, acc:0.211 \n",
            "Epoch: 4400, time: 0.8s, loss: 2.136, acc:0.218 \n",
            "Epoch: 4600, time: 0.8s, loss: 2.121, acc:0.227 \n",
            "Epoch: 4800, time: 0.8s, loss: 2.108, acc:0.232 \n",
            "Epoch: 5000, time: 0.8s, loss: 2.095, acc:0.240 \n"
          ]
        }
      ]
    },
    {
      "cell_type": "code",
      "source": [
        "model_LSTM_80 = NeuralNetwork(nn.LSTM, 80, embedding_size, num_hiddens, 80)\n",
        "model, train_losses = train_model(model_LSTM_80, data_80, n_epochs)"
      ],
      "metadata": {
        "id": "sAr9lgrDHe3W",
        "colab": {
          "base_uri": "https://localhost:8080/"
        },
        "outputId": "9fcf0040-7f1d-4aad-f9bb-2adc1cfa1ee0"
      },
      "execution_count": null,
      "outputs": [
        {
          "output_type": "stream",
          "name": "stdout",
          "text": [
            "Epoch: 200, time: 1.5s, loss: 2.451, acc:0.102 \n",
            "Epoch: 400, time: 1.5s, loss: 2.369, acc:0.104 \n",
            "Epoch: 600, time: 1.5s, loss: 2.342, acc:0.109 \n",
            "Epoch: 800, time: 1.5s, loss: 2.323, acc:0.113 \n",
            "Epoch: 1000, time: 1.5s, loss: 2.315, acc:0.114 \n",
            "Epoch: 1200, time: 1.5s, loss: 2.308, acc:0.115 \n",
            "Epoch: 1400, time: 1.5s, loss: 2.304, acc:0.116 \n",
            "Epoch: 1600, time: 1.5s, loss: 2.300, acc:0.118 \n",
            "Epoch: 1800, time: 1.5s, loss: 2.297, acc:0.121 \n",
            "Epoch: 2000, time: 1.5s, loss: 2.295, acc:0.125 \n",
            "Epoch: 2200, time: 1.5s, loss: 2.292, acc:0.126 \n",
            "Epoch: 2400, time: 1.5s, loss: 2.290, acc:0.128 \n",
            "Epoch: 2600, time: 1.5s, loss: 2.288, acc:0.130 \n",
            "Epoch: 2800, time: 1.5s, loss: 2.286, acc:0.132 \n",
            "Epoch: 3000, time: 1.5s, loss: 2.283, acc:0.134 \n",
            "Epoch: 3200, time: 1.5s, loss: 2.281, acc:0.136 \n",
            "Epoch: 3400, time: 1.5s, loss: 2.278, acc:0.139 \n",
            "Epoch: 3600, time: 1.5s, loss: 2.276, acc:0.141 \n",
            "Epoch: 3800, time: 1.5s, loss: 2.273, acc:0.143 \n",
            "Epoch: 4000, time: 1.5s, loss: 2.270, acc:0.146 \n",
            "Epoch: 4200, time: 1.5s, loss: 2.267, acc:0.146 \n",
            "Epoch: 4400, time: 1.5s, loss: 2.264, acc:0.150 \n",
            "Epoch: 4600, time: 1.5s, loss: 2.261, acc:0.152 \n",
            "Epoch: 4800, time: 1.5s, loss: 2.257, acc:0.155 \n",
            "Epoch: 5000, time: 1.5s, loss: 2.253, acc:0.157 \n"
          ]
        }
      ]
    },
    {
      "cell_type": "markdown",
      "source": [
        "|net| len str|time, s |loss\t|acc|\n",
        "|:------|:------|------:|------:|------:|\n",
        "|RNN|10|0.1|0.161|0.942|\n",
        "||40|0.2|1.963|0.299|\n",
        "||80|0.6|2.190|0.196|\n",
        "|GRU|10|0.2|0.192|0.945|\n",
        "||40|0.6|2.129|0.221|\n",
        "||80|1.3|2.252|0.157|\n",
        "|LSTM|10|0.2|0.312|0.922|\n",
        "||40|0.8|2.095|0.240|\n",
        "||80|1.5|2.253|0.157|\n"
      ],
      "metadata": {
        "id": "8juJ3i7CGhlR"
      }
    },
    {
      "cell_type": "markdown",
      "source": [
        "На последовательностях длиной 10 RNN, GRU справились почти одинаково. С увеличением длины последовательности увеличивается время обучения, loss и accuracy. На последовательностях длиной 40 и 80 сети с GRU и LSTM показывают почти одинаковые результаты, правда LSTM чуть медленнее. Но в данном примере на длинных последовательностях RNN оказался чуть лучше, чем GRU и LSTM."
      ],
      "metadata": {
        "id": "LU4KzTZs3w5i"
      }
    },
    {
      "cell_type": "markdown",
      "source": [
        "#Задание 2:\n",
        "применить LSTM для решения лекционного практического задания"
      ],
      "metadata": {
        "id": "qR3Kqr62Bxrz"
      }
    },
    {
      "cell_type": "code",
      "source": [
        "!wget https://s3.amazonaws.com/text-datasets/nietzsche.txt"
      ],
      "metadata": {
        "id": "KiyUWGLpBzYd",
        "colab": {
          "base_uri": "https://localhost:8080/"
        },
        "outputId": "61f2ff19-85a2-4720-da4b-89115983a18d"
      },
      "execution_count": null,
      "outputs": [
        {
          "output_type": "stream",
          "name": "stdout",
          "text": [
            "--2023-02-03 12:42:05--  https://s3.amazonaws.com/text-datasets/nietzsche.txt\n",
            "Resolving s3.amazonaws.com (s3.amazonaws.com)... 54.231.204.216, 52.217.161.184, 54.231.202.176, ...\n",
            "Connecting to s3.amazonaws.com (s3.amazonaws.com)|54.231.204.216|:443... connected.\n",
            "HTTP request sent, awaiting response... 200 OK\n",
            "Length: 600901 (587K) [text/plain]\n",
            "Saving to: ‘nietzsche.txt’\n",
            "\n",
            "nietzsche.txt       100%[===================>] 586.82K  1.86MB/s    in 0.3s    \n",
            "\n",
            "2023-02-03 12:42:05 (1.86 MB/s) - ‘nietzsche.txt’ saved [600901/600901]\n",
            "\n"
          ]
        }
      ]
    },
    {
      "cell_type": "code",
      "source": [
        "import re"
      ],
      "metadata": {
        "id": "CfvtxwssCENc"
      },
      "execution_count": null,
      "outputs": []
    },
    {
      "cell_type": "code",
      "source": [
        "with open('nietzsche.txt', encoding='utf-8') as f:\n",
        "    text = f.read().lower()\n",
        "print('length:', len(text))\n",
        "text = re.sub('[^a-z ]', ' ', text)\n",
        "text = re.sub('\\s+', ' ', text)"
      ],
      "metadata": {
        "id": "bi1V7HLkCHFp",
        "colab": {
          "base_uri": "https://localhost:8080/"
        },
        "outputId": "6a2c6d95-9030-4555-c266-724fd46cfb84"
      },
      "execution_count": null,
      "outputs": [
        {
          "output_type": "stream",
          "name": "stdout",
          "text": [
            "length: 600893\n"
          ]
        }
      ]
    },
    {
      "cell_type": "code",
      "source": [
        "text[:100]"
      ],
      "metadata": {
        "id": "1LesNEsdCHNh",
        "colab": {
          "base_uri": "https://localhost:8080/",
          "height": 35
        },
        "outputId": "4c59d8cf-152f-4c2f-9fd7-2141fe351669"
      },
      "execution_count": null,
      "outputs": [
        {
          "output_type": "execute_result",
          "data": {
            "text/plain": [
              "'preface supposing that truth is a woman what then is there not ground for suspecting that all philos'"
            ],
            "application/vnd.google.colaboratory.intrinsic+json": {
              "type": "string"
            }
          },
          "metadata": {},
          "execution_count": 18
        }
      ]
    },
    {
      "cell_type": "code",
      "source": [
        "INDEX_TO_CHAR = sorted(list(set(text)))\n",
        "CHAR_TO_INDEX = {c: i for i, c in enumerate(INDEX_TO_CHAR)}\n",
        "CHAR_TO_INDEX"
      ],
      "metadata": {
        "id": "cLg_bst6CHT_",
        "colab": {
          "base_uri": "https://localhost:8080/"
        },
        "outputId": "c4b2bf01-63b6-4bab-959e-a3609e398496"
      },
      "execution_count": null,
      "outputs": [
        {
          "output_type": "execute_result",
          "data": {
            "text/plain": [
              "{' ': 0,\n",
              " 'a': 1,\n",
              " 'b': 2,\n",
              " 'c': 3,\n",
              " 'd': 4,\n",
              " 'e': 5,\n",
              " 'f': 6,\n",
              " 'g': 7,\n",
              " 'h': 8,\n",
              " 'i': 9,\n",
              " 'j': 10,\n",
              " 'k': 11,\n",
              " 'l': 12,\n",
              " 'm': 13,\n",
              " 'n': 14,\n",
              " 'o': 15,\n",
              " 'p': 16,\n",
              " 'q': 17,\n",
              " 'r': 18,\n",
              " 's': 19,\n",
              " 't': 20,\n",
              " 'u': 21,\n",
              " 'v': 22,\n",
              " 'w': 23,\n",
              " 'x': 24,\n",
              " 'y': 25,\n",
              " 'z': 26}"
            ]
          },
          "metadata": {},
          "execution_count": 19
        }
      ]
    },
    {
      "cell_type": "code",
      "source": [
        "MAX_LEN = 40\n",
        "STEP = 3\n",
        "SENTENCES = []\n",
        "NEXT_CHARS = []\n",
        "for i in range(0, len(text) - MAX_LEN, STEP):\n",
        "    SENTENCES.append(text[i: i + MAX_LEN])\n",
        "    NEXT_CHARS.append(text[i + MAX_LEN])\n",
        "print('Num sents:', len(SENTENCES))"
      ],
      "metadata": {
        "id": "mCL30gh2CHag",
        "colab": {
          "base_uri": "https://localhost:8080/"
        },
        "outputId": "ce97f617-dff4-469b-90fc-a9eeb937e0fa"
      },
      "execution_count": null,
      "outputs": [
        {
          "output_type": "stream",
          "name": "stdout",
          "text": [
            "Num sents: 193075\n"
          ]
        }
      ]
    },
    {
      "cell_type": "code",
      "source": [
        "print('Vectorization...')\n",
        "X = torch.zeros((len(SENTENCES), MAX_LEN), dtype=int)\n",
        "Y = torch.zeros((len(SENTENCES)), dtype=int)\n",
        "for i, sentence in enumerate(SENTENCES):\n",
        "    for t, char in enumerate(sentence):\n",
        "        X[i, t] = CHAR_TO_INDEX[char]\n",
        "    Y[i] = CHAR_TO_INDEX[NEXT_CHARS[i]]"
      ],
      "metadata": {
        "id": "8IVm_HekCHgt",
        "colab": {
          "base_uri": "https://localhost:8080/"
        },
        "outputId": "07fc503f-9066-49ed-c44a-d123617b5c35"
      },
      "execution_count": null,
      "outputs": [
        {
          "output_type": "stream",
          "name": "stdout",
          "text": [
            "Vectorization...\n"
          ]
        }
      ]
    },
    {
      "cell_type": "code",
      "source": [
        "X[0:1], Y[0]"
      ],
      "metadata": {
        "id": "7RgDWjY-CQlt",
        "colab": {
          "base_uri": "https://localhost:8080/"
        },
        "outputId": "bde5a78d-e32f-444b-846d-94e7098450f2"
      },
      "execution_count": null,
      "outputs": [
        {
          "output_type": "execute_result",
          "data": {
            "text/plain": [
              "(tensor([[16, 18,  5,  6,  1,  3,  5,  0, 19, 21, 16, 16, 15, 19,  9, 14,  7,  0,\n",
              "          20,  8,  1, 20,  0, 20, 18, 21, 20,  8,  0,  9, 19,  0,  1,  0, 23, 15,\n",
              "          13,  1, 14,  0]]), tensor(23))"
            ]
          },
          "metadata": {},
          "execution_count": 22
        }
      ]
    },
    {
      "cell_type": "code",
      "source": [
        "BATCH_SIZE=512\n",
        "dataset = torch.utils.data.TensorDataset(X, Y)\n",
        "data = torch.utils.data.DataLoader(dataset, BATCH_SIZE, shuffle=True)"
      ],
      "metadata": {
        "id": "XXgx0X27CQs1"
      },
      "execution_count": null,
      "outputs": []
    },
    {
      "cell_type": "code",
      "source": [
        "class NeuralNetwork(nn.Module):\n",
        "    def __init__(self, rnnClass, dictionary_size, embedding_size, num_hiddens, num_classes):\n",
        "        super().__init__()\n",
        "        \n",
        "        self.num_hiddens = num_hiddens\n",
        "        self.embedding = nn.Embedding(dictionary_size, embedding_size)\n",
        "        self.hidden = rnnClass(embedding_size, num_hiddens, batch_first=True)\n",
        "        self.output = nn.Linear(num_hiddens, num_classes)\n",
        "        \n",
        "    def forward(self, X):\n",
        "        out = self.embedding(X)\n",
        "        _, state = self.hidden(out)\n",
        "        predictions = self.output(state[0])\n",
        "        return predictions.squeeze(0)"
      ],
      "metadata": {
        "id": "zgN9DO7bCQz4"
      },
      "execution_count": null,
      "outputs": []
    },
    {
      "cell_type": "code",
      "source": [
        "model = NeuralNetwork(nn.LSTM, len(CHAR_TO_INDEX), 64, 128, len(CHAR_TO_INDEX))"
      ],
      "metadata": {
        "id": "sdMeUXuJCQ7R"
      },
      "execution_count": null,
      "outputs": []
    },
    {
      "cell_type": "code",
      "source": [
        "model(X[0:1])"
      ],
      "metadata": {
        "id": "m4nF78IICRGI",
        "colab": {
          "base_uri": "https://localhost:8080/"
        },
        "outputId": "1c680605-8c9c-44a1-d7f2-c37ab52e4708"
      },
      "execution_count": null,
      "outputs": [
        {
          "output_type": "execute_result",
          "data": {
            "text/plain": [
              "tensor([[-0.0226,  0.0160, -0.0708, -0.0347,  0.0859,  0.1034,  0.0247,  0.0741,\n",
              "          0.1761, -0.0089,  0.0785,  0.1652, -0.0007,  0.0308,  0.0326, -0.0449,\n",
              "          0.0804, -0.0630, -0.0349, -0.1179,  0.0869, -0.1890, -0.0987, -0.0741,\n",
              "          0.0055,  0.1189, -0.1021]], grad_fn=<SqueezeBackward1>)"
            ]
          },
          "metadata": {},
          "execution_count": 26
        }
      ]
    },
    {
      "cell_type": "code",
      "source": [
        "def sample(preds):\n",
        "    softmaxed = torch.softmax(preds, 0)\n",
        "    probas = torch.distributions.multinomial.Multinomial(1, softmaxed).sample()\n",
        "    return probas.argmax()\n",
        "\n",
        "def generate_text():\n",
        "    start_index = random.randint(0, len(text) - MAX_LEN - 1)\n",
        "\n",
        "    generated = ''\n",
        "    sentence = text[start_index: start_index + MAX_LEN]\n",
        "    generated += sentence\n",
        "\n",
        "    for i in range(MAX_LEN):\n",
        "        x_pred = torch.zeros((1, MAX_LEN), dtype=int)\n",
        "        for t, char in enumerate(generated[-MAX_LEN:]):\n",
        "            x_pred[0, t] = CHAR_TO_INDEX[char]\n",
        "\n",
        "        preds = model(x_pred)[0]\n",
        "        next_char = INDEX_TO_CHAR[sample(preds)]\n",
        "        generated = generated + next_char\n",
        "\n",
        "    print(generated[:MAX_LEN] + '|' + generated[MAX_LEN:])"
      ],
      "metadata": {
        "id": "1FNqRT0ECRM_"
      },
      "execution_count": null,
      "outputs": []
    },
    {
      "cell_type": "code",
      "source": [
        "generate_text()"
      ],
      "metadata": {
        "id": "_Y3sjBQsCaHR",
        "colab": {
          "base_uri": "https://localhost:8080/"
        },
        "outputId": "91ba847c-cca5-4a3a-87fb-f976f136e0aa"
      },
      "execution_count": null,
      "outputs": [
        {
          "output_type": "stream",
          "name": "stdout",
          "text": [
            "ds inserted here the old theological pro|qqpcly klkqlnrihayk ahmrphzykllga neymxj\n"
          ]
        }
      ]
    },
    {
      "cell_type": "code",
      "source": [
        "criterion = torch.nn.CrossEntropyLoss()\n",
        "optimizer = torch.optim.Adam(model.parameters())"
      ],
      "metadata": {
        "id": "GMZkdqsECaO_"
      },
      "execution_count": null,
      "outputs": []
    },
    {
      "cell_type": "code",
      "source": [
        "for ep in range(5):\n",
        "    start = time.time()\n",
        "    train_loss = 0.\n",
        "    train_passed = 0\n",
        "\n",
        "    model.train()\n",
        "    for X_b, y_b in tqdm.tqdm_notebook(data):\n",
        "        X_b, y_b = X_b, y_b\n",
        "        optimizer.zero_grad()\n",
        "        answers = model.forward(X_b)\n",
        "        loss = criterion(answers, y_b)\n",
        "        train_loss += loss.item()\n",
        "\n",
        "        loss.backward()\n",
        "        optimizer.step()\n",
        "        train_passed += 1\n",
        "\n",
        "    print(\"Epoch {}. Time: {:.3f}, Train loss: {:.3f}\".format(ep, time.time() - start, train_loss / train_passed))\n",
        "    model.eval()\n",
        "    generate_text()"
      ],
      "metadata": {
        "id": "n23w9KimCaV1",
        "colab": {
          "base_uri": "https://localhost:8080/",
          "height": 403,
          "referenced_widgets": [
            "e031f17d7122495cb95ae63106bccbf9",
            "25537f46b26c43d9b33ae0d10c7407d4",
            "a18c4374c43849bc981e9420b8eeba8d",
            "dda975ebfb53407eaaf2eac48f3e00c6",
            "78b97d1e603d42468b9d7ce93b5ad61a",
            "4ccef29fb73e4902b4fedff357f1ec70",
            "e2b45bccbc6144e4be3d20cc276fefac",
            "e2f0086985f346dcb213b69bbf1c5144",
            "2f52748686804f8daede70422ef3bb08",
            "6eb9d96740794a7b94dce52ba4f91364",
            "65e6bba7085747f7a7c1ea392d0d8dd7",
            "a13965e7149042a0b1edcac236f089d8",
            "3e3972d4cb064d2db2943fbd6c24d00b",
            "cca44e704a6c4780839313567ed375f9",
            "7a05ea89763d460fb4d8b09c004e5961",
            "16f1c24ad53a45fb86f41f65db91f97c",
            "0d8f3dfd5be84cd496ee373244d086ac",
            "c2e03e953cd44cf8b84cfd11d29544aa",
            "15699cacb5ce4272b117d75a79b46ea7",
            "89638adf5ef94b5388263dee6e6ef517",
            "d32b47963bca4cde93271fc695ffdde1",
            "d6139cef65b14da8841f9aac2860dd0e",
            "eb58793a516341d58e4fb60cd0ea8283",
            "39a03ec243ae4506a8549528c876409f",
            "5b43ccc1b6b141658f9f8f0faa5ac1ef",
            "02465ea14da241919bada8f0efbe4178",
            "64719e02d01d42a593a5199f8f640b55",
            "86cb81dac36249be90bb4158709bc46c",
            "55b835c09aed4db682aae52f6a1d555c",
            "76bebd7c08a54ac5bfd82f58c0a5be14",
            "07992685e7b24481a9248b1834a62f06",
            "6bcfb3c14c4845fcb295b816bc58465e",
            "a2c990d663b44eb5a8ac69fbd70c548a",
            "42819ead7a9a4d05b3685af8bb4a50f6",
            "a8e5dd139d764134b88125895f766f9a",
            "7da6d64e74bf4d70b04ffe01047618e7",
            "65fb1b0990ec42699c914a5375a2bbc1",
            "669ebcbd4c3842c5b6669298f61e5bde",
            "424689c7dda3418e9ea21ec4f640e44b",
            "6c525eee5af14d4aa2903c57c8688d31",
            "d158f329f6324111b3b59eedd4bcf471",
            "7a5004c1aa62407b97930c268a592af9",
            "9bcb8b916674412db702e99c43144330",
            "4a94cb0dc84b4b4cb7173e4baba95a2f",
            "ad6e51625011471ea0567ccca447530e",
            "377a57aa386e41498ad8dd20b52afe8f",
            "230f8dfdd60044b1a36b43f9ad162084",
            "23cfa503f5314d14a9a24dedb987eb97",
            "b662cd911acd461bb38a9b641a18ab85",
            "10a7ab1bf532436d91aa64bda83fa3af",
            "6e9a44c73e554b5083986ef631cca85c",
            "ae4a58d2bf044b9f8c8671635e54a317",
            "e3601b3ee5614c0285fe3e54245e9cec",
            "1d4fa50cc8e9452aa31968074ecbe163",
            "72943ecdbc60462da9f183cd7933f742"
          ]
        },
        "outputId": "69d55c76-702d-44a3-e268-49394a4afbb2"
      },
      "execution_count": null,
      "outputs": [
        {
          "output_type": "stream",
          "name": "stderr",
          "text": [
            "<ipython-input-30-8f474e72f798>:7: TqdmDeprecationWarning: This function will be removed in tqdm==5.0.0\n",
            "Please use `tqdm.notebook.tqdm` instead of `tqdm.tqdm_notebook`\n",
            "  for X_b, y_b in tqdm.tqdm_notebook(data):\n"
          ]
        },
        {
          "output_type": "display_data",
          "data": {
            "text/plain": [
              "  0%|          | 0/378 [00:00<?, ?it/s]"
            ],
            "application/vnd.jupyter.widget-view+json": {
              "version_major": 2,
              "version_minor": 0,
              "model_id": "e031f17d7122495cb95ae63106bccbf9"
            }
          },
          "metadata": {}
        },
        {
          "output_type": "stream",
          "name": "stdout",
          "text": [
            "Epoch 0. Time: 126.470, Train loss: 2.164\n",
            "l qualities that it is a synthesis of al| whord fol jalat theas and noce dejury r\n"
          ]
        },
        {
          "output_type": "display_data",
          "data": {
            "text/plain": [
              "  0%|          | 0/378 [00:00<?, ?it/s]"
            ],
            "application/vnd.jupyter.widget-view+json": {
              "version_major": 2,
              "version_minor": 0,
              "model_id": "a13965e7149042a0b1edcac236f089d8"
            }
          },
          "metadata": {}
        },
        {
          "output_type": "stream",
          "name": "stdout",
          "text": [
            "Epoch 1. Time: 127.029, Train loss: 1.779\n",
            "the same language or rather when people |wherther eve ermirit itsis realite theer\n"
          ]
        },
        {
          "output_type": "display_data",
          "data": {
            "text/plain": [
              "  0%|          | 0/378 [00:00<?, ?it/s]"
            ],
            "application/vnd.jupyter.widget-view+json": {
              "version_major": 2,
              "version_minor": 0,
              "model_id": "eb58793a516341d58e4fb60cd0ea8283"
            }
          },
          "metadata": {}
        },
        {
          "output_type": "stream",
          "name": "stdout",
          "text": [
            "Epoch 2. Time: 125.846, Train loss: 1.637\n",
            "ld even say craftiness with which the pr|amptious on the femment of t the greates\n"
          ]
        },
        {
          "output_type": "display_data",
          "data": {
            "text/plain": [
              "  0%|          | 0/378 [00:00<?, ?it/s]"
            ],
            "application/vnd.jupyter.widget-view+json": {
              "version_major": 2,
              "version_minor": 0,
              "model_id": "42819ead7a9a4d05b3685af8bb4a50f6"
            }
          },
          "metadata": {}
        },
        {
          "output_type": "stream",
          "name": "stdout",
          "text": [
            "Epoch 3. Time: 127.402, Train loss: 1.550\n",
            "o any other reality but just that of our| case s pusty what he beyther they exist\n"
          ]
        },
        {
          "output_type": "display_data",
          "data": {
            "text/plain": [
              "  0%|          | 0/378 [00:00<?, ?it/s]"
            ],
            "application/vnd.jupyter.widget-view+json": {
              "version_major": 2,
              "version_minor": 0,
              "model_id": "ad6e51625011471ea0567ccca447530e"
            }
          },
          "metadata": {}
        },
        {
          "output_type": "stream",
          "name": "stdout",
          "text": [
            "Epoch 4. Time: 127.212, Train loss: 1.491\n",
            "qual suddenness transforms into penitent| abest thereffully thic self president f\n"
          ]
        }
      ]
    }
  ]
}