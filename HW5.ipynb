{
  "nbformat": 4,
  "nbformat_minor": 0,
  "metadata": {
    "colab": {
      "provenance": []
    },
    "kernelspec": {
      "name": "python3",
      "display_name": "Python 3"
    },
    "language_info": {
      "name": "python"
    }
  },
  "cells": [
    {
      "cell_type": "markdown",
      "source": [
        "**Задание**\n",
        "\n",
        "Обучите нейронную сеть решать шифр Цезаря.\n",
        "\n",
        "Что необходимо сделать:\n",
        "Написать алгоритм шифра Цезаря для генерации выборки (сдвиг на К каждой буквы. \n",
        "\n",
        "Например, при сдвиге на 2 буква “А” переходит в букву “В” и тп)\n",
        "- Сделать нейронную сеть\n",
        "- Обучить ее (вход - зашифрованная фраза, выход - дешифрованная фраза)\n",
        "- Проверить качество\n"
      ],
      "metadata": {
        "id": "4-UuRNU9bLkH"
      }
    },
    {
      "cell_type": "code",
      "execution_count": null,
      "metadata": {
        "id": "qphxfhn_5DiH"
      },
      "outputs": [],
      "source": [
        "import pandas as pd\n",
        "import time\n",
        "import torch\n",
        "import random"
      ]
    },
    {
      "cell_type": "markdown",
      "source": [
        "##Читаем файл"
      ],
      "metadata": {
        "id": "hnbK6FTVAlh1"
      }
    },
    {
      "cell_type": "code",
      "source": [
        "df = pd.read_csv('/content/drive/MyDrive/Colab Notebooks/ds/onegin.txt', sep='\\n\\r')#mode='r', newline='')\n",
        "\n",
        "df.head(20)"
      ],
      "metadata": {
        "colab": {
          "base_uri": "https://localhost:8080/",
          "height": 731
        },
        "id": "TyKv7bNV5JPb",
        "outputId": "165724f2-778c-40d8-b2a7-9ae058dd7ab8"
      },
      "execution_count": null,
      "outputs": [
        {
          "output_type": "stream",
          "name": "stderr",
          "text": [
            "/usr/local/lib/python3.8/dist-packages/pandas/util/_decorators.py:311: ParserWarning: Falling back to the 'python' engine because the 'c' engine does not support regex separators (separators > 1 char and different from '\\s+' are interpreted as regex); you can avoid this warning by specifying engine='python'.\n",
            "  return func(*args, **kwargs)\n"
          ]
        },
        {
          "output_type": "execute_result",
          "data": {
            "text/plain": [
              "                                       Евгений Онегин\n",
              "0                          Александр Сергеевич Пушкин\n",
              "1                             Классика для школьников\n",
              "2   Роман в стихах А. С. Пушкина «Евгений Онегин» ...\n",
              "3                          Александр Сергеевич Пушкин\n",
              "4                                      Евгений Онегин\n",
              "5   Pеtri de vanitе il avait encore plus de cette ...\n",
              "6   Tirе d’une lettre particuli?re[1 - Проникнутый...\n",
              "7                      He мысля гордый свет забавить,\n",
              "8                            Вниманье дружбы возлюбя,\n",
              "9                         Хотел бы я тебе представить\n",
              "10                              Залог достойнее тебя,\n",
              "11                         Достойнее души прекрасной,\n",
              "12                          Святой исполненной мечты,\n",
              "13                              Поэзии живой и ясной,\n",
              "14                            Высоких дум и простоты;\n",
              "15                 Но так и быть – рукой пристрастной\n",
              "16                       Прими собранье пёстрых глав,\n",
              "17                        Полусмешных, полупечальных,\n",
              "18                         Простонародных, идеальных,\n",
              "19                         Небрежный плод моих забав,"
            ],
            "text/html": [
              "\n",
              "  <div id=\"df-e6dc5ccc-89e2-46ff-b90d-7bdd6c1509d2\">\n",
              "    <div class=\"colab-df-container\">\n",
              "      <div>\n",
              "<style scoped>\n",
              "    .dataframe tbody tr th:only-of-type {\n",
              "        vertical-align: middle;\n",
              "    }\n",
              "\n",
              "    .dataframe tbody tr th {\n",
              "        vertical-align: top;\n",
              "    }\n",
              "\n",
              "    .dataframe thead th {\n",
              "        text-align: right;\n",
              "    }\n",
              "</style>\n",
              "<table border=\"1\" class=\"dataframe\">\n",
              "  <thead>\n",
              "    <tr style=\"text-align: right;\">\n",
              "      <th></th>\n",
              "      <th>Евгений Онегин</th>\n",
              "    </tr>\n",
              "  </thead>\n",
              "  <tbody>\n",
              "    <tr>\n",
              "      <th>0</th>\n",
              "      <td>Александр Сергеевич Пушкин</td>\n",
              "    </tr>\n",
              "    <tr>\n",
              "      <th>1</th>\n",
              "      <td>Классика для школьников</td>\n",
              "    </tr>\n",
              "    <tr>\n",
              "      <th>2</th>\n",
              "      <td>Роман в стихах А. С. Пушкина «Евгений Онегин» ...</td>\n",
              "    </tr>\n",
              "    <tr>\n",
              "      <th>3</th>\n",
              "      <td>Александр Сергеевич Пушкин</td>\n",
              "    </tr>\n",
              "    <tr>\n",
              "      <th>4</th>\n",
              "      <td>Евгений Онегин</td>\n",
              "    </tr>\n",
              "    <tr>\n",
              "      <th>5</th>\n",
              "      <td>Pеtri de vanitе il avait encore plus de cette ...</td>\n",
              "    </tr>\n",
              "    <tr>\n",
              "      <th>6</th>\n",
              "      <td>Tirе d’une lettre particuli?re[1 - Проникнутый...</td>\n",
              "    </tr>\n",
              "    <tr>\n",
              "      <th>7</th>\n",
              "      <td>He мысля гордый свет забавить,</td>\n",
              "    </tr>\n",
              "    <tr>\n",
              "      <th>8</th>\n",
              "      <td>Вниманье дружбы возлюбя,</td>\n",
              "    </tr>\n",
              "    <tr>\n",
              "      <th>9</th>\n",
              "      <td>Хотел бы я тебе представить</td>\n",
              "    </tr>\n",
              "    <tr>\n",
              "      <th>10</th>\n",
              "      <td>Залог достойнее тебя,</td>\n",
              "    </tr>\n",
              "    <tr>\n",
              "      <th>11</th>\n",
              "      <td>Достойнее души прекрасной,</td>\n",
              "    </tr>\n",
              "    <tr>\n",
              "      <th>12</th>\n",
              "      <td>Святой исполненной мечты,</td>\n",
              "    </tr>\n",
              "    <tr>\n",
              "      <th>13</th>\n",
              "      <td>Поэзии живой и ясной,</td>\n",
              "    </tr>\n",
              "    <tr>\n",
              "      <th>14</th>\n",
              "      <td>Высоких дум и простоты;</td>\n",
              "    </tr>\n",
              "    <tr>\n",
              "      <th>15</th>\n",
              "      <td>Но так и быть – рукой пристрастной</td>\n",
              "    </tr>\n",
              "    <tr>\n",
              "      <th>16</th>\n",
              "      <td>Прими собранье пёстрых глав,</td>\n",
              "    </tr>\n",
              "    <tr>\n",
              "      <th>17</th>\n",
              "      <td>Полусмешных, полупечальных,</td>\n",
              "    </tr>\n",
              "    <tr>\n",
              "      <th>18</th>\n",
              "      <td>Простонародных, идеальных,</td>\n",
              "    </tr>\n",
              "    <tr>\n",
              "      <th>19</th>\n",
              "      <td>Небрежный плод моих забав,</td>\n",
              "    </tr>\n",
              "  </tbody>\n",
              "</table>\n",
              "</div>\n",
              "      <button class=\"colab-df-convert\" onclick=\"convertToInteractive('df-e6dc5ccc-89e2-46ff-b90d-7bdd6c1509d2')\"\n",
              "              title=\"Convert this dataframe to an interactive table.\"\n",
              "              style=\"display:none;\">\n",
              "        \n",
              "  <svg xmlns=\"http://www.w3.org/2000/svg\" height=\"24px\"viewBox=\"0 0 24 24\"\n",
              "       width=\"24px\">\n",
              "    <path d=\"M0 0h24v24H0V0z\" fill=\"none\"/>\n",
              "    <path d=\"M18.56 5.44l.94 2.06.94-2.06 2.06-.94-2.06-.94-.94-2.06-.94 2.06-2.06.94zm-11 1L8.5 8.5l.94-2.06 2.06-.94-2.06-.94L8.5 2.5l-.94 2.06-2.06.94zm10 10l.94 2.06.94-2.06 2.06-.94-2.06-.94-.94-2.06-.94 2.06-2.06.94z\"/><path d=\"M17.41 7.96l-1.37-1.37c-.4-.4-.92-.59-1.43-.59-.52 0-1.04.2-1.43.59L10.3 9.45l-7.72 7.72c-.78.78-.78 2.05 0 2.83L4 21.41c.39.39.9.59 1.41.59.51 0 1.02-.2 1.41-.59l7.78-7.78 2.81-2.81c.8-.78.8-2.07 0-2.86zM5.41 20L4 18.59l7.72-7.72 1.47 1.35L5.41 20z\"/>\n",
              "  </svg>\n",
              "      </button>\n",
              "      \n",
              "  <style>\n",
              "    .colab-df-container {\n",
              "      display:flex;\n",
              "      flex-wrap:wrap;\n",
              "      gap: 12px;\n",
              "    }\n",
              "\n",
              "    .colab-df-convert {\n",
              "      background-color: #E8F0FE;\n",
              "      border: none;\n",
              "      border-radius: 50%;\n",
              "      cursor: pointer;\n",
              "      display: none;\n",
              "      fill: #1967D2;\n",
              "      height: 32px;\n",
              "      padding: 0 0 0 0;\n",
              "      width: 32px;\n",
              "    }\n",
              "\n",
              "    .colab-df-convert:hover {\n",
              "      background-color: #E2EBFA;\n",
              "      box-shadow: 0px 1px 2px rgba(60, 64, 67, 0.3), 0px 1px 3px 1px rgba(60, 64, 67, 0.15);\n",
              "      fill: #174EA6;\n",
              "    }\n",
              "\n",
              "    [theme=dark] .colab-df-convert {\n",
              "      background-color: #3B4455;\n",
              "      fill: #D2E3FC;\n",
              "    }\n",
              "\n",
              "    [theme=dark] .colab-df-convert:hover {\n",
              "      background-color: #434B5C;\n",
              "      box-shadow: 0px 1px 3px 1px rgba(0, 0, 0, 0.15);\n",
              "      filter: drop-shadow(0px 1px 2px rgba(0, 0, 0, 0.3));\n",
              "      fill: #FFFFFF;\n",
              "    }\n",
              "  </style>\n",
              "\n",
              "      <script>\n",
              "        const buttonEl =\n",
              "          document.querySelector('#df-e6dc5ccc-89e2-46ff-b90d-7bdd6c1509d2 button.colab-df-convert');\n",
              "        buttonEl.style.display =\n",
              "          google.colab.kernel.accessAllowed ? 'block' : 'none';\n",
              "\n",
              "        async function convertToInteractive(key) {\n",
              "          const element = document.querySelector('#df-e6dc5ccc-89e2-46ff-b90d-7bdd6c1509d2');\n",
              "          const dataTable =\n",
              "            await google.colab.kernel.invokeFunction('convertToInteractive',\n",
              "                                                     [key], {});\n",
              "          if (!dataTable) return;\n",
              "\n",
              "          const docLinkHtml = 'Like what you see? Visit the ' +\n",
              "            '<a target=\"_blank\" href=https://colab.research.google.com/notebooks/data_table.ipynb>data table notebook</a>'\n",
              "            + ' to learn more about interactive tables.';\n",
              "          element.innerHTML = '';\n",
              "          dataTable['output_type'] = 'display_data';\n",
              "          await google.colab.output.renderOutput(dataTable, element);\n",
              "          const docLink = document.createElement('div');\n",
              "          docLink.innerHTML = docLinkHtml;\n",
              "          element.appendChild(docLink);\n",
              "        }\n",
              "      </script>\n",
              "    </div>\n",
              "  </div>\n",
              "  "
            ]
          },
          "metadata": {},
          "execution_count": 2
        }
      ]
    },
    {
      "cell_type": "code",
      "source": [
        "phrases = df['Евгений Онегин'].tolist()\n",
        "phrases[:10]"
      ],
      "metadata": {
        "colab": {
          "base_uri": "https://localhost:8080/"
        },
        "id": "ZJjcLdhr4TO9",
        "outputId": "57104d1c-e371-4662-d1c7-b533e2c2117e"
      },
      "execution_count": null,
      "outputs": [
        {
          "output_type": "execute_result",
          "data": {
            "text/plain": [
              "['Александр Сергеевич Пушкин',\n",
              " 'Классика для школьников',\n",
              " 'Роман в стихах А.\\xa0С.\\xa0Пушкина «Евгений Онегин» (1823–1831)\\xa0– одно из самых значительных произведений русской литературы. Роман охватывает события с 1819 по 1825 год: от заграничных походов русской армии после разгрома Наполеона до восстания декабристов. По словам известного критика В.\\xa0Г.\\xa0Белинского, роман – «энциклопедия русской жизни» начала XIX века.',\n",
              " 'Александр Сергеевич Пушкин',\n",
              " 'Евгений Онегин',\n",
              " 'Pеtri de vanitе il avait encore plus de cette esp? ce d’orgueil qui fait avouer avec la m?me indiffеrence les bonnes comme les mauvaises actions, suite d’un sentiment de supеrioritе, peut-?tre imaginaire.',\n",
              " 'Tirе d’une lettre particuli?re[1 - Проникнутый тщеславием, он обладал сверх того ещё особенной гордостью, которая побуждает признаваться с одинаковым равнодушием как в своих добрых, так и дурных поступках,\\xa0– вследствие чувства превосходства, быть может, мнимого.Из частного письма (франц.)]',\n",
              " 'He мысля гордый свет забавить,',\n",
              " 'Вниманье дружбы возлюбя,',\n",
              " 'Хотел бы я тебе представить']"
            ]
          },
          "metadata": {},
          "execution_count": 3
        }
      ]
    },
    {
      "cell_type": "markdown",
      "source": [
        "##Шифруем данные"
      ],
      "metadata": {
        "id": "ue_D-BCeAue5"
      }
    },
    {
      "cell_type": "code",
      "source": [
        "small_symbols = \"абвгдеёжзийклмнопрстуфхцчшщъыьэюя\"\n",
        "big_symbols = \"АБВГДЕЁЖЗИЙКЛМНОПРСТУФХЦЧШЩЪЫЬЭЮЯ\"\n",
        "\n",
        "\n",
        "def shift(text, symbols, n):\n",
        "    index = symbols.find(text)\n",
        "    if index + n < len(symbols):\n",
        "        return symbols[index + n]\n",
        "    else:\n",
        "        return symbols[(index + n) % len(symbols)]\n",
        "\n",
        "    \n",
        "\n",
        "def back_shift(text, symbols, n):\n",
        "    index = symbols.find(text)\n",
        "    if index - n >= 0:\n",
        "        return symbols[index - n]\n",
        "    else:        \n",
        "        return symbols[(index - n) % len(symbols)]\n",
        "\n",
        "    \n",
        "\n",
        "def encrypt(text, n):\n",
        "    res = \"\"\n",
        "\n",
        "    for i in range(0, len(text)): \n",
        "        if text[i].isupper():\n",
        "            res += shift(text[i], big_symbols, n)\n",
        "        \n",
        "        elif text[i].islower():\n",
        "            res += shift(text[i], small_symbols, n)\n",
        "        else:\n",
        "            res += text[i]\n",
        "        \n",
        "    return res\n",
        "\n",
        "\n",
        "def decrypt (text, n):\n",
        "    res = \"\"\n",
        "                   \n",
        "    for i in range(0, len(text)):\n",
        "        if text[i].isupper():\n",
        "            res += back_shift(text[i], big_symbols, n)\n",
        "        \n",
        "        elif text[i].islower():\n",
        "            res += back_shift(text[i], small_symbols, n)\n",
        "        else:\n",
        "            res += text[i]\n",
        "        \n",
        "    return res\n"
      ],
      "metadata": {
        "id": "G1dgPgaQ5al6"
      },
      "execution_count": null,
      "outputs": []
    },
    {
      "cell_type": "code",
      "source": [
        "len(small_symbols)"
      ],
      "metadata": {
        "colab": {
          "base_uri": "https://localhost:8080/"
        },
        "id": "Bprggoqw--cu",
        "outputId": "81e12529-7256-40ac-ddfd-41a05726b98b"
      },
      "execution_count": null,
      "outputs": [
        {
          "output_type": "execute_result",
          "data": {
            "text/plain": [
              "33"
            ]
          },
          "metadata": {},
          "execution_count": 5
        }
      ]
    },
    {
      "cell_type": "code",
      "source": [
        "encrypt_phrases = []\n",
        "#n = input('введите сдвиг: ')\n",
        "for i in range(len(phrases)):\n",
        "  str = phrases[i]\n",
        "  #str_enc = encrypt(str, int(n))\n",
        "  str_enc = encrypt(str, random.randint(1, len(small_symbols)-1))\n",
        "  encrypt_phrases.append(str_enc)\n",
        "\n",
        "print('оригинальный текст:  ', phrases[:3])\n",
        "print('зашифрованный текст: ', encrypt_phrases[:3])\n",
        "\n"
      ],
      "metadata": {
        "colab": {
          "base_uri": "https://localhost:8080/"
        },
        "id": "avsjfpiv014N",
        "outputId": "fec17ce1-0412-4bc4-8ec5-58f1dcfddb60"
      },
      "execution_count": null,
      "outputs": [
        {
          "output_type": "stream",
          "name": "stdout",
          "text": [
            "оригинальный текст:   ['Александр Сергеевич Пушкин', 'Классика для школьников', 'Роман в стихах А.\\xa0С.\\xa0Пушкина «Евгений Онегин» (1823–1831)\\xa0– одно из самых значительных произведений русской литературы. Роман охватывает события с 1819 по 1825 год: от заграничных походов русской армии после разгрома Наполеона до восстания декабристов. По словам известного критика В.\\xa0Г.\\xa0Белинского, роман – «энциклопедия русской жизни» начала XIX века.']\n",
            "зашифрованный текст:  ['Ьзбжньйам Нбмяббюеу Лпфжей', 'Яафёёэяф шау мягарвэягц', 'Цфтёу з чшоыёы Ё.\\xa0Ч.\\xa0Хщюроуё «Кзикуоп Фукиоу» (1823–1831)\\xa0– фйуф он чётбы нуёэошксвубы хцфонзкйкуоп цщччрфп сошкцёшщцб. Цфтёу фызёшбзёкш чфжбшое ч 1819 хф 1825 ифй: фш нёицёуоэубы хфыфйфз цщччрфп ёцтоо хфчск цёницфтё Уёхфскфуё йф зфччшёуое йкрёжцочшфз. Хф чсфзёт онзкчшуфиф рцошорё З.\\xa0И.\\xa0Жксоучрфиф, цфтёу – «гуьорсфхкйое цщччрфп монуо» уёэёсё ЕЕЕ зкрё.']\n"
          ]
        }
      ]
    },
    {
      "cell_type": "markdown",
      "source": [
        "##Делаем массив с данными"
      ],
      "metadata": {
        "id": "3tHJ1LMdA1KI"
      }
    },
    {
      "cell_type": "code",
      "source": [
        "CHARS = set('АБВГДЕЁЖЗИЙКЛМНОПРСТУФХЦЧШЩЪЫЬЭЮЯабвгдеёжзийклмнопрстуфхцчшщъыьэюя ')\n",
        "INDEX_TO_CHAR = ['none'] + [w for w in CHARS]\n",
        "CHAR_TO_INDEX = {w: i for i, w in enumerate(INDEX_TO_CHAR)}"
      ],
      "metadata": {
        "id": "4dMF4G43A1pE"
      },
      "execution_count": null,
      "outputs": []
    },
    {
      "cell_type": "code",
      "source": [
        "len(INDEX_TO_CHAR)"
      ],
      "metadata": {
        "colab": {
          "base_uri": "https://localhost:8080/"
        },
        "id": "m7_MME6-_b7d",
        "outputId": "91d7e63e-0f3d-47ac-ce62-64e91d6122b5"
      },
      "execution_count": null,
      "outputs": [
        {
          "output_type": "execute_result",
          "data": {
            "text/plain": [
              "68"
            ]
          },
          "metadata": {},
          "execution_count": 8
        }
      ]
    },
    {
      "cell_type": "code",
      "source": [
        "MAX_LEN = 68\n",
        "y = torch.zeros((len(phrases), MAX_LEN), dtype=int)\n",
        "for i in range(len(phrases)):\n",
        "    for j, w in enumerate(phrases[i]):\n",
        "        if j >= MAX_LEN:\n",
        "            break\n",
        "        y[i, j] = CHAR_TO_INDEX.get(w, CHAR_TO_INDEX['none'])"
      ],
      "metadata": {
        "id": "BOIxxkQAA_cO"
      },
      "execution_count": null,
      "outputs": []
    },
    {
      "cell_type": "code",
      "source": [
        "print(CHAR_TO_INDEX['А'],CHAR_TO_INDEX['л'],CHAR_TO_INDEX['е'], CHAR_TO_INDEX['к'], CHAR_TO_INDEX['с'])\n",
        "y[0:3]"
      ],
      "metadata": {
        "colab": {
          "base_uri": "https://localhost:8080/"
        },
        "id": "c8vegEzTBZc9",
        "outputId": "12d8bfb0-3cf6-40af-f4cc-5ef08110d9f0"
      },
      "execution_count": null,
      "outputs": [
        {
          "output_type": "stream",
          "name": "stdout",
          "text": [
            "51 20 38 41 48\n"
          ]
        },
        {
          "output_type": "execute_result",
          "data": {
            "text/plain": [
              "tensor([[51, 20, 38, 41, 48, 52, 35, 47, 32, 24,  3, 38, 32, 62, 38, 38, 53, 16,\n",
              "          1, 24, 50,  8,  4, 41, 16, 35,  0,  0,  0,  0,  0,  0,  0,  0,  0,  0,\n",
              "          0,  0,  0,  0,  0,  0,  0,  0,  0,  0,  0,  0,  0,  0,  0,  0,  0,  0,\n",
              "          0,  0,  0,  0,  0,  0,  0,  0,  0,  0,  0,  0,  0,  0],\n",
              "        [18, 20, 52, 48, 48, 16, 41, 52, 24, 47, 20, 17, 24,  4, 41, 42, 20, 43,\n",
              "         35, 16, 41, 42, 53,  0,  0,  0,  0,  0,  0,  0,  0,  0,  0,  0,  0,  0,\n",
              "          0,  0,  0,  0,  0,  0,  0,  0,  0,  0,  0,  0,  0,  0,  0,  0,  0,  0,\n",
              "          0,  0,  0,  0,  0,  0,  0,  0,  0,  0,  0,  0,  0,  0],\n",
              "        [ 2, 42, 60, 52, 35, 24, 53, 24, 48, 63, 16, 12, 52, 12, 24, 51,  0,  0,\n",
              "          3,  0,  0, 50,  8,  4, 41, 16, 35, 52, 24,  0, 67, 53, 62, 38, 35, 16,\n",
              "         54, 24, 57, 35, 38, 62, 16, 35,  0, 24,  0,  0,  0,  0,  0,  0,  0,  0,\n",
              "          0,  0,  0,  0,  0, 24, 42, 47, 35, 42, 24, 16, 66, 24]])"
            ]
          },
          "metadata": {},
          "execution_count": 10
        }
      ]
    },
    {
      "cell_type": "code",
      "source": [
        "X = torch.zeros((len(encrypt_phrases), MAX_LEN), dtype=int)\n",
        "for i in range(len(encrypt_phrases)):\n",
        "    for j, w in enumerate(encrypt_phrases[i]):\n",
        "        if j >= MAX_LEN:\n",
        "            break\n",
        "        X[i, j] = CHAR_TO_INDEX.get(w, CHAR_TO_INDEX['none'])"
      ],
      "metadata": {
        "id": "nTkRCFPKBbwk"
      },
      "execution_count": null,
      "outputs": []
    },
    {
      "cell_type": "code",
      "source": [
        "X[0:3]"
      ],
      "metadata": {
        "colab": {
          "base_uri": "https://localhost:8080/"
        },
        "id": "GUz369OtBkB0",
        "outputId": "eebb7608-6077-49db-894d-043ebf839a86"
      },
      "execution_count": null,
      "outputs": [
        {
          "output_type": "execute_result",
          "data": {
            "text/plain": [
              "tensor([[15, 66, 34, 46, 35, 43, 54, 52, 60, 24, 13, 34, 60, 17, 34, 34, 30, 38,\n",
              "          8, 24, 26, 31, 28, 46, 38, 54,  0,  0,  0,  0,  0,  0,  0,  0,  0,  0,\n",
              "          0,  0,  0,  0,  0,  0,  0,  0,  0,  0,  0,  0,  0,  0,  0,  0,  0,  0,\n",
              "          0,  0,  0,  0,  0,  0,  0,  0,  0,  0,  0,  0,  0,  0],\n",
              "        [40, 52, 28, 22, 22, 64, 17, 28, 24,  4, 52,  8, 24, 60, 17, 62, 52, 32,\n",
              "         53, 64, 17, 62, 23,  0,  0,  0,  0,  0,  0,  0,  0,  0,  0,  0,  0,  0,\n",
              "          0,  0,  0,  0,  0,  0,  0,  0,  0,  0,  0,  0,  0,  0,  0,  0,  0,  0,\n",
              "          0,  0,  0,  0,  0,  0,  0,  0,  0,  0,  0,  0,  0,  0],\n",
              "        [ 6, 28, 63, 22,  8, 24, 66, 24,  1,  4, 42, 33, 22, 33, 24, 61,  0,  0,\n",
              "         19,  0,  0, 65, 29, 30, 32, 42,  8, 22, 24,  0, 18, 66, 16, 41,  8, 42,\n",
              "         31, 24, 56,  8, 41, 16, 42,  8,  0, 24,  0,  0,  0,  0,  0,  0,  0,  0,\n",
              "          0,  0,  0,  0,  0, 24, 28, 54,  8, 28, 24, 42, 35, 24]])"
            ]
          },
          "metadata": {},
          "execution_count": 12
        }
      ]
    },
    {
      "cell_type": "markdown",
      "source": [
        "## Создание нейросети"
      ],
      "metadata": {
        "id": "BksG-MLwF_4w"
      }
    },
    {
      "cell_type": "code",
      "source": [
        "class Network(torch.nn.Module):\n",
        "    def __init__(self):\n",
        "        super(Network, self).__init__()\n",
        "        self.embed = torch.nn.Embedding(len(CHAR_TO_INDEX),68)\n",
        "        self.rnn = torch.nn.RNN(68, 128, batch_first=True)\n",
        "        self.linear = torch.nn.Linear(128, len(INDEX_TO_CHAR))\n",
        "                \n",
        "    def forward(self, sentences, state=None):\n",
        "        embed = self.embed(sentences)\n",
        "        o, s = self.rnn(embed)\n",
        "        out = self.linear(o)\n",
        "        return out"
      ],
      "metadata": {
        "id": "2_k5JuQZF9L2"
      },
      "execution_count": null,
      "outputs": []
    },
    {
      "cell_type": "code",
      "source": [
        "model = Network()"
      ],
      "metadata": {
        "id": "XcY7O3DLGDJ_"
      },
      "execution_count": null,
      "outputs": []
    },
    {
      "cell_type": "code",
      "source": [
        "criterion = torch.nn.CrossEntropyLoss()\n",
        "optimizer = torch.optim.SGD(model.parameters(), lr=.05)"
      ],
      "metadata": {
        "id": "k6ZgvhB2GFTt"
      },
      "execution_count": null,
      "outputs": []
    },
    {
      "cell_type": "code",
      "source": [
        "model.train()\n",
        "for epoch in range(1000):\n",
        "    start = time.time()\n",
        "    train_loss = 0.\n",
        "\n",
        "\n",
        "    optimizer.zero_grad()\n",
        "    answers = model.forward(X)\n",
        "    loss = criterion(answers, y)\n",
        "    train_loss += loss.item()\n",
        "\n",
        "    loss.backward()\n",
        "    optimizer.step()\n",
        "\n",
        "    if (epoch+1) % 200 == 0:\n",
        "        print(\"Epoch {}. Time: {:.3f}, Train loss: {:.3f}\".format(epoch+1, time.time() - start, train_loss ))  "
      ],
      "metadata": {
        "colab": {
          "base_uri": "https://localhost:8080/"
        },
        "id": "laEKgFhpGFyU",
        "outputId": "42659f18-91f8-477c-9d58-63618cb7a227"
      },
      "execution_count": null,
      "outputs": [
        {
          "output_type": "stream",
          "name": "stdout",
          "text": [
            "Epoch 200. Time: 0.781, Train loss: 1.734\n",
            "Epoch 400. Time: 0.765, Train loss: 1.604\n",
            "Epoch 600. Time: 0.783, Train loss: 1.579\n",
            "Epoch 800. Time: 0.842, Train loss: 1.570\n",
            "Epoch 1000. Time: 0.735, Train loss: 1.565\n"
          ]
        }
      ]
    },
    {
      "cell_type": "markdown",
      "source": [
        "## данные для теста\n"
      ],
      "metadata": {
        "id": "UOSiiDHHO4uD"
      }
    },
    {
      "cell_type": "code",
      "source": [
        "df_test = pd.read_csv('/content/drive/MyDrive/Colab Notebooks/ds/filatov.txt', sep='\\n\\r')\n",
        "df_test.head(20)"
      ],
      "metadata": {
        "colab": {
          "base_uri": "https://localhost:8080/",
          "height": 731
        },
        "id": "2GlCBWM_O27m",
        "outputId": "eb7c0dff-c589-4323-989f-cabb4768a1c4"
      },
      "execution_count": null,
      "outputs": [
        {
          "output_type": "stream",
          "name": "stderr",
          "text": [
            "/usr/local/lib/python3.8/dist-packages/pandas/util/_decorators.py:311: ParserWarning: Falling back to the 'python' engine because the 'c' engine does not support regex separators (separators > 1 char and different from '\\s+' are interpreted as regex); you can avoid this warning by specifying engine='python'.\n",
            "  return func(*args, **kwargs)\n"
          ]
        },
        {
          "output_type": "execute_result",
          "data": {
            "text/plain": [
              "                                       Леонид Филатов\n",
              "0                                 Про Федота-Стрельца\n",
              "1                                   Сказка для театра\n",
              "2                     (По мотивам русского фольклора)\n",
              "3                                   Скоморох-потешник\n",
              "4   Верьте аль не верьте, а жил на белом свете Фед...\n",
              "5                                                Царь\n",
              "6                            К нам на утренний рассол\n",
              "7                              Прибыл аглицкий посол,\n",
              "8                            А у нас в дому закуски –\n",
              "9                               Полгорбушки да мосол.\n",
              "10                         Снаряжайся, братец, в путь\n",
              "11                          Да съестного нам добудь –\n",
              "12                             Глухаря аль куропатку,\n",
              "13                               Аль ишо кого-нибудь.\n",
              "14                        Не смогешь – кого винить? –\n",
              "15                             Я должон тебя казнить.\n",
              "16                             Государственное дело –\n",
              "17                             Ты улавливаешь нить?..\n",
              "18                                              Федот\n",
              "19                                Нешто я да не пойму"
            ],
            "text/html": [
              "\n",
              "  <div id=\"df-88cab36a-74d8-4d70-99f6-216911971480\">\n",
              "    <div class=\"colab-df-container\">\n",
              "      <div>\n",
              "<style scoped>\n",
              "    .dataframe tbody tr th:only-of-type {\n",
              "        vertical-align: middle;\n",
              "    }\n",
              "\n",
              "    .dataframe tbody tr th {\n",
              "        vertical-align: top;\n",
              "    }\n",
              "\n",
              "    .dataframe thead th {\n",
              "        text-align: right;\n",
              "    }\n",
              "</style>\n",
              "<table border=\"1\" class=\"dataframe\">\n",
              "  <thead>\n",
              "    <tr style=\"text-align: right;\">\n",
              "      <th></th>\n",
              "      <th>Леонид Филатов</th>\n",
              "    </tr>\n",
              "  </thead>\n",
              "  <tbody>\n",
              "    <tr>\n",
              "      <th>0</th>\n",
              "      <td>Про Федота-Стрельца</td>\n",
              "    </tr>\n",
              "    <tr>\n",
              "      <th>1</th>\n",
              "      <td>Сказка для театра</td>\n",
              "    </tr>\n",
              "    <tr>\n",
              "      <th>2</th>\n",
              "      <td>(По мотивам русского фольклора)</td>\n",
              "    </tr>\n",
              "    <tr>\n",
              "      <th>3</th>\n",
              "      <td>Скоморох-потешник</td>\n",
              "    </tr>\n",
              "    <tr>\n",
              "      <th>4</th>\n",
              "      <td>Верьте аль не верьте, а жил на белом свете Фед...</td>\n",
              "    </tr>\n",
              "    <tr>\n",
              "      <th>5</th>\n",
              "      <td>Царь</td>\n",
              "    </tr>\n",
              "    <tr>\n",
              "      <th>6</th>\n",
              "      <td>К нам на утренний рассол</td>\n",
              "    </tr>\n",
              "    <tr>\n",
              "      <th>7</th>\n",
              "      <td>Прибыл аглицкий посол,</td>\n",
              "    </tr>\n",
              "    <tr>\n",
              "      <th>8</th>\n",
              "      <td>А у нас в дому закуски –</td>\n",
              "    </tr>\n",
              "    <tr>\n",
              "      <th>9</th>\n",
              "      <td>Полгорбушки да мосол.</td>\n",
              "    </tr>\n",
              "    <tr>\n",
              "      <th>10</th>\n",
              "      <td>Снаряжайся, братец, в путь</td>\n",
              "    </tr>\n",
              "    <tr>\n",
              "      <th>11</th>\n",
              "      <td>Да съестного нам добудь –</td>\n",
              "    </tr>\n",
              "    <tr>\n",
              "      <th>12</th>\n",
              "      <td>Глухаря аль куропатку,</td>\n",
              "    </tr>\n",
              "    <tr>\n",
              "      <th>13</th>\n",
              "      <td>Аль ишо кого-нибудь.</td>\n",
              "    </tr>\n",
              "    <tr>\n",
              "      <th>14</th>\n",
              "      <td>Не смогешь – кого винить? –</td>\n",
              "    </tr>\n",
              "    <tr>\n",
              "      <th>15</th>\n",
              "      <td>Я должон тебя казнить.</td>\n",
              "    </tr>\n",
              "    <tr>\n",
              "      <th>16</th>\n",
              "      <td>Государственное дело –</td>\n",
              "    </tr>\n",
              "    <tr>\n",
              "      <th>17</th>\n",
              "      <td>Ты улавливаешь нить?..</td>\n",
              "    </tr>\n",
              "    <tr>\n",
              "      <th>18</th>\n",
              "      <td>Федот</td>\n",
              "    </tr>\n",
              "    <tr>\n",
              "      <th>19</th>\n",
              "      <td>Нешто я да не пойму</td>\n",
              "    </tr>\n",
              "  </tbody>\n",
              "</table>\n",
              "</div>\n",
              "      <button class=\"colab-df-convert\" onclick=\"convertToInteractive('df-88cab36a-74d8-4d70-99f6-216911971480')\"\n",
              "              title=\"Convert this dataframe to an interactive table.\"\n",
              "              style=\"display:none;\">\n",
              "        \n",
              "  <svg xmlns=\"http://www.w3.org/2000/svg\" height=\"24px\"viewBox=\"0 0 24 24\"\n",
              "       width=\"24px\">\n",
              "    <path d=\"M0 0h24v24H0V0z\" fill=\"none\"/>\n",
              "    <path d=\"M18.56 5.44l.94 2.06.94-2.06 2.06-.94-2.06-.94-.94-2.06-.94 2.06-2.06.94zm-11 1L8.5 8.5l.94-2.06 2.06-.94-2.06-.94L8.5 2.5l-.94 2.06-2.06.94zm10 10l.94 2.06.94-2.06 2.06-.94-2.06-.94-.94-2.06-.94 2.06-2.06.94z\"/><path d=\"M17.41 7.96l-1.37-1.37c-.4-.4-.92-.59-1.43-.59-.52 0-1.04.2-1.43.59L10.3 9.45l-7.72 7.72c-.78.78-.78 2.05 0 2.83L4 21.41c.39.39.9.59 1.41.59.51 0 1.02-.2 1.41-.59l7.78-7.78 2.81-2.81c.8-.78.8-2.07 0-2.86zM5.41 20L4 18.59l7.72-7.72 1.47 1.35L5.41 20z\"/>\n",
              "  </svg>\n",
              "      </button>\n",
              "      \n",
              "  <style>\n",
              "    .colab-df-container {\n",
              "      display:flex;\n",
              "      flex-wrap:wrap;\n",
              "      gap: 12px;\n",
              "    }\n",
              "\n",
              "    .colab-df-convert {\n",
              "      background-color: #E8F0FE;\n",
              "      border: none;\n",
              "      border-radius: 50%;\n",
              "      cursor: pointer;\n",
              "      display: none;\n",
              "      fill: #1967D2;\n",
              "      height: 32px;\n",
              "      padding: 0 0 0 0;\n",
              "      width: 32px;\n",
              "    }\n",
              "\n",
              "    .colab-df-convert:hover {\n",
              "      background-color: #E2EBFA;\n",
              "      box-shadow: 0px 1px 2px rgba(60, 64, 67, 0.3), 0px 1px 3px 1px rgba(60, 64, 67, 0.15);\n",
              "      fill: #174EA6;\n",
              "    }\n",
              "\n",
              "    [theme=dark] .colab-df-convert {\n",
              "      background-color: #3B4455;\n",
              "      fill: #D2E3FC;\n",
              "    }\n",
              "\n",
              "    [theme=dark] .colab-df-convert:hover {\n",
              "      background-color: #434B5C;\n",
              "      box-shadow: 0px 1px 3px 1px rgba(0, 0, 0, 0.15);\n",
              "      filter: drop-shadow(0px 1px 2px rgba(0, 0, 0, 0.3));\n",
              "      fill: #FFFFFF;\n",
              "    }\n",
              "  </style>\n",
              "\n",
              "      <script>\n",
              "        const buttonEl =\n",
              "          document.querySelector('#df-88cab36a-74d8-4d70-99f6-216911971480 button.colab-df-convert');\n",
              "        buttonEl.style.display =\n",
              "          google.colab.kernel.accessAllowed ? 'block' : 'none';\n",
              "\n",
              "        async function convertToInteractive(key) {\n",
              "          const element = document.querySelector('#df-88cab36a-74d8-4d70-99f6-216911971480');\n",
              "          const dataTable =\n",
              "            await google.colab.kernel.invokeFunction('convertToInteractive',\n",
              "                                                     [key], {});\n",
              "          if (!dataTable) return;\n",
              "\n",
              "          const docLinkHtml = 'Like what you see? Visit the ' +\n",
              "            '<a target=\"_blank\" href=https://colab.research.google.com/notebooks/data_table.ipynb>data table notebook</a>'\n",
              "            + ' to learn more about interactive tables.';\n",
              "          element.innerHTML = '';\n",
              "          dataTable['output_type'] = 'display_data';\n",
              "          await google.colab.output.renderOutput(dataTable, element);\n",
              "          const docLink = document.createElement('div');\n",
              "          docLink.innerHTML = docLinkHtml;\n",
              "          element.appendChild(docLink);\n",
              "        }\n",
              "      </script>\n",
              "    </div>\n",
              "  </div>\n",
              "  "
            ]
          },
          "metadata": {},
          "execution_count": 17
        }
      ]
    },
    {
      "cell_type": "code",
      "source": [
        "phrases_test = df_test['Леонид Филатов'].tolist()\n",
        "phrases_test[:3]"
      ],
      "metadata": {
        "colab": {
          "base_uri": "https://localhost:8080/"
        },
        "id": "-oqaE147O27n",
        "outputId": "371e8ee6-a5f3-47d7-9e33-c9bd59bd1647"
      },
      "execution_count": null,
      "outputs": [
        {
          "output_type": "execute_result",
          "data": {
            "text/plain": [
              "['Про Федота-Стрельца', 'Сказка для театра', '(По мотивам русского фольклора)']"
            ]
          },
          "metadata": {},
          "execution_count": 18
        }
      ]
    },
    {
      "cell_type": "code",
      "source": [
        "encrypt_phrases_test = []\n",
        "#print('сдвиг: ', n)\n",
        "for i in range(len(phrases_test)):\n",
        "  str = phrases_test[i]\n",
        "  #str_enc = encrypt(str, int(n))\n",
        "  str_enc = encrypt(str, random.randint(1, len(small_symbols)-1))\n",
        "  encrypt_phrases_test.append(str_enc)\n",
        "\n",
        "print('оригинальный тестовый текст:  ', phrases_test[:3])\n",
        "print('зашифрованный тестовый текст: ', encrypt_phrases_test[:3])"
      ],
      "metadata": {
        "colab": {
          "base_uri": "https://localhost:8080/"
        },
        "outputId": "4a6ba48b-a2ef-4448-b8f4-834960b990be",
        "id": "EluhwkC8O27n"
      },
      "execution_count": null,
      "outputs": [
        {
          "output_type": "stream",
          "name": "stdout",
          "text": [
            "оригинальный тестовый текст:   ['Про Федота-Стрельца', 'Сказка для театра', '(По мотивам русского фольклора)']\n",
            "зашифрованный тестовый текст:  ['Рсп Хёепуб-Тусёмэчб', 'Щтзптз луж ъмзъшз', '(Ая эягщтрэ бдввыяуя еяьмыьябр)']\n"
          ]
        }
      ]
    },
    {
      "cell_type": "code",
      "source": [
        "y_test = torch.zeros((len(phrases_test), MAX_LEN), dtype=int)\n",
        "for i in range(len(phrases_test)):\n",
        "    for j, w in enumerate(phrases_test[i]):\n",
        "        if j >= MAX_LEN:\n",
        "            break\n",
        "        y_test[i, j] = CHAR_TO_INDEX.get(w, CHAR_TO_INDEX['none'])"
      ],
      "metadata": {
        "id": "3cyL1sA6O27n"
      },
      "execution_count": null,
      "outputs": []
    },
    {
      "cell_type": "code",
      "source": [
        "print(CHAR_TO_INDEX['П'],CHAR_TO_INDEX['р'],CHAR_TO_INDEX['о'], CHAR_TO_INDEX[' '], CHAR_TO_INDEX['Ф'])\n",
        "y_test[0:3]"
      ],
      "metadata": {
        "colab": {
          "base_uri": "https://localhost:8080/"
        },
        "outputId": "26fd64a4-ccfd-4ce2-e7aa-5c925658655a",
        "id": "tPWL-tpQO27n"
      },
      "execution_count": null,
      "outputs": [
        {
          "output_type": "stream",
          "name": "stdout",
          "text": [
            "50 32 42 24 56\n"
          ]
        },
        {
          "output_type": "execute_result",
          "data": {
            "text/plain": [
              "tensor([[50, 32, 42, 24, 56, 38, 47, 42, 63, 52,  0,  3, 63, 32, 38, 20, 43, 23,\n",
              "         52,  0,  0,  0,  0,  0,  0,  0,  0,  0,  0,  0,  0,  0,  0,  0,  0,  0,\n",
              "          0,  0,  0,  0,  0,  0,  0,  0,  0,  0,  0,  0,  0,  0,  0,  0,  0,  0,\n",
              "          0,  0,  0,  0,  0,  0,  0,  0,  0,  0,  0,  0,  0,  0],\n",
              "        [ 3, 41, 52, 66, 41, 52, 24, 47, 20, 17, 24, 63, 38, 52, 63, 32, 52,  0,\n",
              "          0,  0,  0,  0,  0,  0,  0,  0,  0,  0,  0,  0,  0,  0,  0,  0,  0,  0,\n",
              "          0,  0,  0,  0,  0,  0,  0,  0,  0,  0,  0,  0,  0,  0,  0,  0,  0,  0,\n",
              "          0,  0,  0,  0,  0,  0,  0,  0,  0,  0,  0,  0,  0,  0],\n",
              "        [ 0, 50, 42, 24, 60, 42, 63, 16, 53, 52, 60, 24, 32,  8, 48, 48, 41, 42,\n",
              "         62, 42, 24, 28, 42, 20, 43, 41, 20, 42, 32, 52,  0,  0,  0,  0,  0,  0,\n",
              "          0,  0,  0,  0,  0,  0,  0,  0,  0,  0,  0,  0,  0,  0,  0,  0,  0,  0,\n",
              "          0,  0,  0,  0,  0,  0,  0,  0,  0,  0,  0,  0,  0,  0]])"
            ]
          },
          "metadata": {},
          "execution_count": 21
        }
      ]
    },
    {
      "cell_type": "code",
      "source": [
        "X_test = torch.zeros((len(encrypt_phrases_test), MAX_LEN), dtype=int)\n",
        "for i in range(len(encrypt_phrases_test)):\n",
        "    for j, w in enumerate(encrypt_phrases_test[i]):\n",
        "        if j >= MAX_LEN:\n",
        "            break\n",
        "        X_test[i, j] = CHAR_TO_INDEX.get(w, CHAR_TO_INDEX['none'])"
      ],
      "metadata": {
        "id": "lzpGH3OUO27o"
      },
      "execution_count": null,
      "outputs": []
    },
    {
      "cell_type": "code",
      "source": [
        "X_test[0:3]"
      ],
      "metadata": {
        "colab": {
          "base_uri": "https://localhost:8080/"
        },
        "outputId": "269b3df2-592a-497e-f1f0-e5605eb390c9",
        "id": "uWEL1-HkO27o"
      },
      "execution_count": null,
      "outputs": [
        {
          "output_type": "execute_result",
          "data": {
            "text/plain": [
              "tensor([[ 2, 48, 31, 24, 65, 22, 38, 31,  8, 34,  0, 27,  8, 48, 22, 60, 64,  1,\n",
              "         34,  0,  0,  0,  0,  0,  0,  0,  0,  0,  0,  0,  0,  0,  0,  0,  0,  0,\n",
              "          0,  0,  0,  0,  0,  0,  0,  0,  0,  0,  0,  0,  0,  0,  0,  0,  0,  0,\n",
              "          0,  0,  0,  0,  0,  0,  0,  0,  0,  0,  0,  0,  0,  0],\n",
              "        [14, 63, 66, 31, 63, 66, 24, 20,  8, 46, 24, 45, 60, 66, 45,  4, 66,  0,\n",
              "          0,  0,  0,  0,  0,  0,  0,  0,  0,  0,  0,  0,  0,  0,  0,  0,  0,  0,\n",
              "          0,  0,  0,  0,  0,  0,  0,  0,  0,  0,  0,  0,  0,  0,  0,  0,  0,  0,\n",
              "          0,  0,  0,  0,  0,  0,  0,  0,  0,  0,  0,  0,  0,  0],\n",
              "        [ 0, 51, 17, 24, 64, 17, 62, 29, 63, 32, 64, 24, 34, 47, 53, 53, 33, 17,\n",
              "          8, 17, 24, 38, 17, 43, 60, 33, 43, 17, 34, 32,  0,  0,  0,  0,  0,  0,\n",
              "          0,  0,  0,  0,  0,  0,  0,  0,  0,  0,  0,  0,  0,  0,  0,  0,  0,  0,\n",
              "          0,  0,  0,  0,  0,  0,  0,  0,  0,  0,  0,  0,  0,  0]])"
            ]
          },
          "metadata": {},
          "execution_count": 23
        }
      ]
    },
    {
      "cell_type": "code",
      "source": [
        "model.eval()\n",
        "y_pred = model(X_test)\n",
        "loss = criterion(y_pred, y_test)\n",
        "test_loss = loss.item()\n",
        "        \n",
        "print(\"\\n test_loss: {:.3f} \".format(loss))"
      ],
      "metadata": {
        "id": "o17Bw_CHRSrJ",
        "colab": {
          "base_uri": "https://localhost:8080/"
        },
        "outputId": "68b09828-d634-4ada-96f1-7271a5b3f18a"
      },
      "execution_count": null,
      "outputs": [
        {
          "output_type": "stream",
          "name": "stdout",
          "text": [
            "\n",
            " test_loss: 1.486 \n"
          ]
        }
      ]
    }
  ]
}